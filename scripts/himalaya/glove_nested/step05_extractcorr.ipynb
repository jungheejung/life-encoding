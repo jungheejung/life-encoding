{
 "cells": [
  {
   "attachments": {},
   "cell_type": "markdown",
   "metadata": {},
   "source": [
    "The purpose of this notebook is to extract correlation values form the himalaya pipeline.\n",
    "Using the Glasser ROIs"
   ]
  },
  {
   "cell_type": "code",
   "execution_count": null,
   "metadata": {},
   "outputs": [],
   "source": [
    "import os, glob\n",
    "from os.path import join\n",
    "import numpy as np\n",
    "import pandas as pd\n",
    "import seaborn as sns\n",
    "\n",
    "from neuromaps.datasets import fetch_fslr\n",
    "import numpy as np\n",
    "from neuromaps.datasets import fetch_fsaverage\n",
    "from surfplot import Plot\n",
    "import nibabel as nib\n",
    "from neuromaps.datasets import fetch_fslr\n",
    "from surfplot import Plot\n",
    "\n",
    "import matplotlib.pyplot as plt"
   ]
  },
  {
   "cell_type": "code",
   "execution_count": null,
   "metadata": {},
   "outputs": [],
   "source": [
    "rois = {\n",
    "    \"V1\": [1],             # Primary Visual\n",
    "    \"FFC\": [18],           # Fusiform   \n",
    "    \"PHG\": [126,155,127],  # ParaHippocampal Gyrus   \n",
    "    #\"MT/MST\": [2,23],      # Medial Superior Temporal Area, Middle Temporal Area\n",
    "    \"LOC\": [140,141,157,156,159,2,23],\n",
    "    \"pSTS\": [28,139],       # posterior superior temporal sulcus\n",
    "    \"PPC\": [13, 19, 16, 17], # posterior parietal (V3A, V7, IPS1)\n",
    "    \"TPJ\": [149,150,151],  # Area TemporoParietoOccipital\tJunction 1, 2, 3\n",
    "    \"AIP\": [117, 116, 148, 147], # Anterior Intraparietal \"PF\": [ # PFT, PF, PF\n",
    "    \"SM\": [8,9,51,52,53],           # 8: Primary Motor Cortex, Primary\tSensory\tCortex\n",
    "    \"vPM\": [78,80],       # ventral Premotor6r, IFJP, 43, 6v\n",
    "   \n",
    "        }"
   ]
  },
  {
   "cell_type": "code",
   "execution_count": null,
   "metadata": {},
   "outputs": [],
   "source": [
    "def plot_roi(roi_name, lh_labels, rh_labels, rois, surfaces):\n",
    "    # roi_name = \"TPJ\"\n",
    "    lh, rh = surfaces\n",
    "    p = Plot(surf_lh=lh, surf_rh=rh, size=(1000, 200), zoom=1.2, layout='row', views=['lateral', 'medial', 'ventral'], mirror_views=True)\n",
    "    # fig = p.build()\n",
    "    lh_roi_map = np.full(lh_labels.shape, np.nan)\n",
    "    lh_roi_map[np.in1d(lh_labels, rois[roi_name])] = 1\n",
    "\n",
    "    rh_roi_map = np.full(rh_labels.shape, np.nan)\n",
    "    rh_roi_map[np.in1d(rh_labels, rois[roi_name])] = 1\n",
    "    # plot_roi(lh_roi_map, rh_roi_map, roi_name, 'Reds')\n",
    "    p.add_layer({'left': lh_roi_map, 'right': rh_roi_map}, cmap='YlOrRd_r', cbar=False)\n",
    "    fig = p.build()\n",
    "    fig.show()"
   ]
  },
  {
   "attachments": {},
   "cell_type": "markdown",
   "metadata": {},
   "source": [
    "## parameters"
   ]
  },
  {
   "cell_type": "code",
   "execution_count": null,
   "metadata": {},
   "outputs": [],
   "source": [
    "main_dir = '/Volumes/life-encoding'\n",
    "subjects = ['sub-rid000001', 'sub-rid000005', 'sub-rid000006',\n",
    "            'sub-rid000009', 'sub-rid000012', 'sub-rid000014',\n",
    "            'sub-rid000017', 'sub-rid000019', 'sub-rid000024',\n",
    "            'sub-rid000027', 'sub-rid000031', 'sub-rid000032',\n",
    "            'sub-rid000033', 'sub-rid000034', 'sub-rid000036',\n",
    "            'sub-rid000037', 'sub-rid000038', 'sub-rid000041']\n",
    "runs = [1,2,3,4]\n",
    "hemis = ['lh', 'rh']\n",
    "features = ['bg', 'agents', 'actions', 'moten']\n",
    "encoding_dir = join(main_dir, 'results/himalaya/glove_nested/FEATURE/ha_common_pca-40')\n",
    "isc_dir = join(main_dir, 'scripts/isc/lowerbound')"
   ]
  },
  {
   "attachments": {},
   "cell_type": "markdown",
   "metadata": {},
   "source": [
    "load an example dataset and check shape of data"
   ]
  },
  {
   "cell_type": "code",
   "execution_count": null,
   "metadata": {},
   "outputs": [],
   "source": [
    "feature = 'bg'; sub= 'sub-rid000001'; run = 1; hemi = 'lh'; roi_name = 'PPC'\n",
    "fname_pattern = f'{feature}-r_pca-40_align-ha_common_{sub}_run-{run}_hemi-{hemi}.npy'\n",
    "data = np.load(join(encoding_dir, fname_pattern))"
   ]
  },
  {
   "cell_type": "code",
   "execution_count": null,
   "metadata": {},
   "outputs": [],
   "source": [
    "data.shape"
   ]
  },
  {
   "attachments": {},
   "cell_type": "markdown",
   "metadata": {},
   "source": [
    "## load MMP1"
   ]
  },
  {
   "cell_type": "code",
   "execution_count": null,
   "metadata": {},
   "outputs": [],
   "source": [
    "lh_labels, lh_ctab, lh_names= nib.freesurfer.io.read_annot('/Users/h/Documents/projects_local/life-encoding/scripts/HCP-MMP/lh.HCP_MMP1.fsaverage6.annot')\n",
    "rh_labels, rh_ctab, rh_names= nib.freesurfer.io.read_annot('/Users/h/Documents/projects_local/life-encoding/scripts/HCP-MMP/rh.HCP_MMP1.fsaverage6.annot')"
   ]
  },
  {
   "attachments": {},
   "cell_type": "markdown",
   "metadata": {},
   "source": [
    "## compile results (correlation)\n",
    "compiled per roi, subject, hemisphere, 4 features, and 4 runs"
   ]
  },
  {
   "cell_type": "code",
   "execution_count": null,
   "metadata": {},
   "outputs": [],
   "source": [
    "results = {\n",
    "    \"encoding performance (r)\":[],\n",
    "    \"ROI\":[],\n",
    "    \"subject\":[],\n",
    "    \"hemisphere\": [],\n",
    "    \"features\": [],\n",
    "    \"run\": []\n",
    "           }\n",
    "\n",
    "\n",
    "for subject in subjects:\n",
    "    for hemi in hemis:\n",
    "        for run in runs:\n",
    "            for feature in features:\n",
    "                for roi_name in rois:\n",
    "                    fname_pattern = f'{feature}-r_pca-40_align-ha_common_{subject}_run-{run}_hemi-{hemi}.npy'\n",
    "                    data = np.load(join(encoding_dir, fname_pattern))\n",
    "                    if hemi == 'lh':\n",
    "                        labels = lh_labels\n",
    "                    elif hemi == 'rh':\n",
    "                        labels = rh_labels\n",
    "                    roi_map = np.full(labels.shape, False)\n",
    "                    roi_map[np.in1d(labels, rois[roi_name])] = True\n",
    "\n",
    "                    results['encoding performance (r)'].append(np.mean(data[0, roi_map])) \n",
    "                    results['ROI'].append(roi_name)\n",
    "                    results['subject'].append(subject)\n",
    "                    results['hemisphere'].append(hemi)\n",
    "                    results['features'].append(feature)\n",
    "                    results['run'].append(str(run))\n",
    "            print(f\"finished loading results for {subject}, {hemi}, {run}\")\n"
   ]
  },
  {
   "cell_type": "code",
   "execution_count": null,
   "metadata": {},
   "outputs": [],
   "source": [
    "results_df = pd.DataFrame(results)\n",
    "results_df.head()"
   ]
  },
  {
   "cell_type": "code",
   "execution_count": null,
   "metadata": {},
   "outputs": [],
   "source": [
    "np.unique(results_df.ROI)"
   ]
  },
  {
   "cell_type": "code",
   "execution_count": null,
   "metadata": {},
   "outputs": [],
   "source": [
    "results_df[results_df['features'] == 'actions']"
   ]
  },
  {
   "attachments": {},
   "cell_type": "markdown",
   "metadata": {},
   "source": [
    "# visualization"
   ]
  },
  {
   "cell_type": "code",
   "execution_count": null,
   "metadata": {},
   "outputs": [],
   "source": [
    "roi_order = [\"V1\", \"LOC\", \"FFC\", \"PHG\", \"pSTS\", \"TPJ\", \"PPC\", \"AIP\", \"vPM\", \"SM\"]"
   ]
  },
  {
   "attachments": {},
   "cell_type": "markdown",
   "metadata": {},
   "source": [
    "### barplot: actions\n",
    "LOC, AIP action"
   ]
  },
  {
   "cell_type": "code",
   "execution_count": null,
   "metadata": {},
   "outputs": [],
   "source": [
    "sns.barplot(x=\"ROI\", \n",
    "              y=\"encoding performance (r)\", \n",
    "              hue=\"hemisphere\",\n",
    "              data=results_df[results_df['features'] == 'actions'],\n",
    "              order=roi_order\n",
    "            )\n",
    "plt.ylim(-0.025, 0.11)\n",
    "plt.title(\"feature-actions encoding performance\")\n",
    "sns.despine()"
   ]
  },
  {
   "attachments": {},
   "cell_type": "markdown",
   "metadata": {},
   "source": [
    "### barplot: bg"
   ]
  },
  {
   "cell_type": "code",
   "execution_count": null,
   "metadata": {},
   "outputs": [],
   "source": [
    "sns.barplot(x=\"ROI\", \n",
    "              y=\"encoding performance (r)\", \n",
    "              hue=\"hemisphere\",\n",
    "              data=results_df[results_df['features'] == 'bg'],\n",
    "              order=roi_order\n",
    "            )\n",
    "plt.ylim(-0.025, 0.11)\n",
    "plt.title(\"feature-bg encoding performance\")\n",
    "sns.despine()"
   ]
  },
  {
   "attachments": {},
   "cell_type": "markdown",
   "metadata": {},
   "source": [
    "### barplot: agents"
   ]
  },
  {
   "cell_type": "code",
   "execution_count": null,
   "metadata": {},
   "outputs": [],
   "source": [
    "sns.barplot(x=\"ROI\", \n",
    "              y=\"encoding performance (r)\", \n",
    "              hue=\"hemisphere\",\n",
    "              data=results_df[results_df['features'] == 'agents'], \n",
    "              order=roi_order\n",
    "            )\n",
    "plt.ylim(-0.04, 0.15)\n",
    "plt.title(\"feature-agents encoding performance\")\n",
    "sns.despine()"
   ]
  },
  {
   "cell_type": "code",
   "execution_count": null,
   "metadata": {},
   "outputs": [],
   "source": [
    "sns.barplot(x=\"ROI\", \n",
    "              y=\"encoding performance (r)\", \n",
    "              hue=\"hemisphere\",\n",
    "              data=results_df[results_df['features'] == 'moten'],\n",
    "              order=roi_order,\n",
    "            )\n",
    "plt.ylim(-0.025, 0.1)\n",
    "plt.title(\"feature-moten encoding performance\")\n",
    "sns.despine()"
   ]
  },
  {
   "attachments": {},
   "cell_type": "markdown",
   "metadata": {},
   "source": [
    "### barplot"
   ]
  },
  {
   "cell_type": "code",
   "execution_count": null,
   "metadata": {},
   "outputs": [],
   "source": [
    "#hue = features\n",
    "sns.barplot(x=\"ROI\", \n",
    "              y=\"encoding performance (r)\", \n",
    "              hue=\"features\",\n",
    "              data=results_df, \n",
    "              order=roi_order\n",
    "            )\n",
    "plt.ylim(-0.025, 0.15)\n",
    "plt.title(\"full encoding performance across features\")\n",
    "sns.despine()"
   ]
  },
  {
   "attachments": {},
   "cell_type": "markdown",
   "metadata": {},
   "source": [
    "# compile results (ISC)\n",
    "here, we plot the upper/lower bound of ISC"
   ]
  },
  {
   "cell_type": "code",
   "execution_count": null,
   "metadata": {},
   "outputs": [],
   "source": [
    "isc = {\n",
    "    \"ISC lowerbound performance (r)\":[],\n",
    "    \"ROI\":[],\n",
    "    \"subject\":[],\n",
    "    \"hemisphere\": [],\n",
    "    # \"features\": [],\n",
    "    \"run\": []\n",
    "           }\n",
    "\n",
    "\n",
    "for subject in subjects:\n",
    "    for hemi in hemis:\n",
    "        for run in runs:\n",
    "            # for feature in features:\n",
    "            for roi_name in rois:\n",
    "                fname_pattern = f'subjectwise-ISC_align-ha_common_hemi-{hemi}_run-{run:02d}_{subject}.npy'#f'{feature}-r_pca-40_align-ha_common_{sub}_run-{run}_hemi-{hemi}.npy'\n",
    "                data = np.load(join(isc_dir, fname_pattern))\n",
    "                if hemi == 'lh':\n",
    "                    labels = lh_labels\n",
    "                elif hemi == 'rh':\n",
    "                    labels = rh_labels\n",
    "                roi_map = np.full(labels.shape, False)\n",
    "                roi_map[np.in1d(labels, rois[roi_name])] = True\n",
    "\n",
    "                isc['ISC lowerbound performance (r)'].append(np.mean(data[0, roi_map])) \n",
    "                isc['ROI'].append(roi_name)\n",
    "                isc['subject'].append(subject)\n",
    "                isc['hemisphere'].append(hemi)\n",
    "                # isc['features'].append(feature)\n",
    "                isc['run'].append(str(run))\n",
    "        print(f\"finished loading results for {subject}, {hemi}, {run}\")\n"
   ]
  },
  {
   "cell_type": "code",
   "execution_count": null,
   "metadata": {},
   "outputs": [],
   "source": [
    "isc_df = pd.DataFrame(isc)\n",
    "isc_df"
   ]
  },
  {
   "attachments": {},
   "cell_type": "markdown",
   "metadata": {},
   "source": [
    "## ISC lowerbound"
   ]
  },
  {
   "cell_type": "code",
   "execution_count": null,
   "metadata": {},
   "outputs": [],
   "source": [
    "sns.pointplot(x=\"ROI\", \n",
    "              y=\"ISC lowerbound performance (r)\", \n",
    "              hue=\"hemisphere\",\n",
    "              data=isc_df,\n",
    "              join=False).set(title='ISC lowerbound')"
   ]
  },
  {
   "cell_type": "code",
   "execution_count": null,
   "metadata": {},
   "outputs": [],
   "source": [
    "#hue = features\n",
    "sns.barplot(x=\"ROI\", \n",
    "              y=\"ISC lowerbound performance (r)\", \n",
    "              # hue=\"features\",\n",
    "              data=isc_df\n",
    "            ).set(title='ISC lowerbound')"
   ]
  },
  {
   "attachments": {},
   "cell_type": "markdown",
   "metadata": {},
   "source": [
    "# compile ISC upperbound"
   ]
  },
  {
   "cell_type": "code",
   "execution_count": null,
   "metadata": {},
   "outputs": [],
   "source": [
    "isc_upperdir = join(main_dir, 'scripts/isc/upperbound')"
   ]
  },
  {
   "cell_type": "code",
   "execution_count": null,
   "metadata": {},
   "outputs": [],
   "source": [
    "isc_upper = {\n",
    "    \"ISC upperbound performance (r)\":[],\n",
    "    \"ROI\":[],\n",
    "    \"subject\":[],\n",
    "    \"hemisphere\": [],\n",
    "    \"run\": []\n",
    "           }\n",
    "\n",
    "\n",
    "for subject in subjects:\n",
    "    for hemi in hemis:\n",
    "        for run in runs:\n",
    "            # for feature in features:\n",
    "            for roi_name in rois:\n",
    "                fname_pattern = f'subjectwise-ISCupperbound_align-ha_common_hemi-{hemi}_run-{run:02d}_{subject}.npy'#f'{feature}-r_pca-40_align-ha_common_{sub}_run-{run}_hemi-{hemi}.npy'\n",
    "                data = np.load(join(isc_upperdir, fname_pattern))\n",
    "                if hemi == 'lh':\n",
    "                    labels = lh_labels\n",
    "                elif hemi == 'rh':\n",
    "                    labels = rh_labels\n",
    "                roi_map = np.full(labels.shape, False)\n",
    "                roi_map[np.in1d(labels, rois[roi_name])] = True\n",
    "\n",
    "                isc_upper['ISC upperbound performance (r)'].append(np.mean(data[0, roi_map])) \n",
    "                isc_upper['ROI'].append(roi_name)\n",
    "                isc_upper['subject'].append(subject)\n",
    "                isc_upper['hemisphere'].append(hemi)\n",
    "                isc_upper['run'].append(str(run))\n",
    "        print(f\"finished loading results for {subject}, {hemi}, {run}\")\n"
   ]
  },
  {
   "cell_type": "code",
   "execution_count": null,
   "metadata": {},
   "outputs": [],
   "source": [
    "sns.pointplot(x=\"ROI\", \n",
    "              y=\"ISC upperbound performance (r)\", \n",
    "              hue=\"hemisphere\",\n",
    "              data=isc_upper,\n",
    "              join=False).set(title='ISC upperbound')"
   ]
  },
  {
   "cell_type": "code",
   "execution_count": null,
   "metadata": {},
   "outputs": [],
   "source": [
    "#hue = features\n",
    "sns.barplot(x=\"ROI\", \n",
    "              y=\"ISC upperbound performance (r)\", \n",
    "              # hue=\"features\",\n",
    "              data=isc_upper\n",
    "            ).set(title='ISC upperbound')"
   ]
  }
 ],
 "metadata": {
  "kernelspec": {
   "display_name": "spacetop",
   "language": "python",
   "name": "python3"
  },
  "language_info": {
   "codemirror_mode": {
    "name": "ipython",
    "version": 3
   },
   "file_extension": ".py",
   "mimetype": "text/x-python",
   "name": "python",
   "nbconvert_exporter": "python",
   "pygments_lexer": "ipython3",
   "version": "3.11.3"
  },
  "orig_nbformat": 4
 },
 "nbformat": 4,
 "nbformat_minor": 2
}

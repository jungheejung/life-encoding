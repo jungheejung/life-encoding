{
 "cells": [
  {
   "attachments": {},
   "cell_type": "markdown",
   "metadata": {},
   "source": [
    "Purpose:\n",
    "- quantify dimensionality of different feature spaces in a relatively precise way\n",
    "\n",
    "Method\n",
    "1. stack all runs and identify components\n",
    "2. per run, identify components"
   ]
  },
  {
   "cell_type": "code",
   "execution_count": 36,
   "metadata": {},
   "outputs": [],
   "source": [
    "# libraries\n",
    "import numpy as np\n",
    "import os\n",
    "from sklearn.decomposition import PCA\n",
    "import matplotlib.pyplot as plt\n",
    "from sklearn.preprocessing import StandardScaler"
   ]
  },
  {
   "cell_type": "code",
   "execution_count": 3,
   "metadata": {},
   "outputs": [],
   "source": [
    "# Assign/create directories\n",
    "# data_dir = '/dartfs/rc/lab/D/DBIC/DBIC/life_data/'\n",
    "data_dir = '/Volumes/life_data'\n",
    "# Semantic model directory (/idata/DBIC/cara/w2v/w2v_features)\n",
    "model_dir = os.path.join(data_dir, 'w2v_feature')\n",
    "\n",
    "# load model\n",
    "f = 'bg' #'agents' 'actions'\n",
    "model_f = f'visual_{f}.npy'\n",
    "model = np.load(os.path.join(model_dir, model_f))"
   ]
  },
  {
   "cell_type": "code",
   "execution_count": 4,
   "metadata": {},
   "outputs": [
    {
     "data": {
      "text/plain": [
       "(1488, 300)"
      ]
     },
     "execution_count": 4,
     "metadata": {},
     "output_type": "execute_result"
    }
   ],
   "source": [
    "model.shape # time, feature dimension"
   ]
  },
  {
   "cell_type": "code",
   "execution_count": 6,
   "metadata": {},
   "outputs": [
    {
     "data": {
      "text/html": [
       "<style>#sk-container-id-1 {color: black;background-color: white;}#sk-container-id-1 pre{padding: 0;}#sk-container-id-1 div.sk-toggleable {background-color: white;}#sk-container-id-1 label.sk-toggleable__label {cursor: pointer;display: block;width: 100%;margin-bottom: 0;padding: 0.3em;box-sizing: border-box;text-align: center;}#sk-container-id-1 label.sk-toggleable__label-arrow:before {content: \"▸\";float: left;margin-right: 0.25em;color: #696969;}#sk-container-id-1 label.sk-toggleable__label-arrow:hover:before {color: black;}#sk-container-id-1 div.sk-estimator:hover label.sk-toggleable__label-arrow:before {color: black;}#sk-container-id-1 div.sk-toggleable__content {max-height: 0;max-width: 0;overflow: hidden;text-align: left;background-color: #f0f8ff;}#sk-container-id-1 div.sk-toggleable__content pre {margin: 0.2em;color: black;border-radius: 0.25em;background-color: #f0f8ff;}#sk-container-id-1 input.sk-toggleable__control:checked~div.sk-toggleable__content {max-height: 200px;max-width: 100%;overflow: auto;}#sk-container-id-1 input.sk-toggleable__control:checked~label.sk-toggleable__label-arrow:before {content: \"▾\";}#sk-container-id-1 div.sk-estimator input.sk-toggleable__control:checked~label.sk-toggleable__label {background-color: #d4ebff;}#sk-container-id-1 div.sk-label input.sk-toggleable__control:checked~label.sk-toggleable__label {background-color: #d4ebff;}#sk-container-id-1 input.sk-hidden--visually {border: 0;clip: rect(1px 1px 1px 1px);clip: rect(1px, 1px, 1px, 1px);height: 1px;margin: -1px;overflow: hidden;padding: 0;position: absolute;width: 1px;}#sk-container-id-1 div.sk-estimator {font-family: monospace;background-color: #f0f8ff;border: 1px dotted black;border-radius: 0.25em;box-sizing: border-box;margin-bottom: 0.5em;}#sk-container-id-1 div.sk-estimator:hover {background-color: #d4ebff;}#sk-container-id-1 div.sk-parallel-item::after {content: \"\";width: 100%;border-bottom: 1px solid gray;flex-grow: 1;}#sk-container-id-1 div.sk-label:hover label.sk-toggleable__label {background-color: #d4ebff;}#sk-container-id-1 div.sk-serial::before {content: \"\";position: absolute;border-left: 1px solid gray;box-sizing: border-box;top: 0;bottom: 0;left: 50%;z-index: 0;}#sk-container-id-1 div.sk-serial {display: flex;flex-direction: column;align-items: center;background-color: white;padding-right: 0.2em;padding-left: 0.2em;position: relative;}#sk-container-id-1 div.sk-item {position: relative;z-index: 1;}#sk-container-id-1 div.sk-parallel {display: flex;align-items: stretch;justify-content: center;background-color: white;position: relative;}#sk-container-id-1 div.sk-item::before, #sk-container-id-1 div.sk-parallel-item::before {content: \"\";position: absolute;border-left: 1px solid gray;box-sizing: border-box;top: 0;bottom: 0;left: 50%;z-index: -1;}#sk-container-id-1 div.sk-parallel-item {display: flex;flex-direction: column;z-index: 1;position: relative;background-color: white;}#sk-container-id-1 div.sk-parallel-item:first-child::after {align-self: flex-end;width: 50%;}#sk-container-id-1 div.sk-parallel-item:last-child::after {align-self: flex-start;width: 50%;}#sk-container-id-1 div.sk-parallel-item:only-child::after {width: 0;}#sk-container-id-1 div.sk-dashed-wrapped {border: 1px dashed gray;margin: 0 0.4em 0.5em 0.4em;box-sizing: border-box;padding-bottom: 0.4em;background-color: white;}#sk-container-id-1 div.sk-label label {font-family: monospace;font-weight: bold;display: inline-block;line-height: 1.2em;}#sk-container-id-1 div.sk-label-container {text-align: center;}#sk-container-id-1 div.sk-container {/* jupyter's `normalize.less` sets `[hidden] { display: none; }` but bootstrap.min.css set `[hidden] { display: none !important; }` so we also need the `!important` here to be able to override the default hidden behavior on the sphinx rendered scikit-learn.org. See: https://github.com/scikit-learn/scikit-learn/issues/21755 */display: inline-block !important;position: relative;}#sk-container-id-1 div.sk-text-repr-fallback {display: none;}</style><div id=\"sk-container-id-1\" class=\"sk-top-container\"><div class=\"sk-text-repr-fallback\"><pre>PCA()</pre><b>In a Jupyter environment, please rerun this cell to show the HTML representation or trust the notebook. <br />On GitHub, the HTML representation is unable to render, please try loading this page with nbviewer.org.</b></div><div class=\"sk-container\" hidden><div class=\"sk-item\"><div class=\"sk-estimator sk-toggleable\"><input class=\"sk-toggleable__control sk-hidden--visually\" id=\"sk-estimator-id-1\" type=\"checkbox\" checked><label for=\"sk-estimator-id-1\" class=\"sk-toggleable__label sk-toggleable__label-arrow\">PCA</label><div class=\"sk-toggleable__content\"><pre>PCA()</pre></div></div></div></div></div>"
      ],
      "text/plain": [
       "PCA()"
      ]
     },
     "execution_count": 6,
     "metadata": {},
     "output_type": "execute_result"
    }
   ],
   "source": [
    "pca = PCA()\n",
    "pca.fit(model)"
   ]
  },
  {
   "cell_type": "code",
   "execution_count": 8,
   "metadata": {},
   "outputs": [
    {
     "data": {
      "text/plain": [
       "[<matplotlib.lines.Line2D at 0x16125c1c0>]"
      ]
     },
     "execution_count": 8,
     "metadata": {},
     "output_type": "execute_result"
    },
    {
     "data": {
      "image/png": "[encoded data removed]",
      "text/plain": [
       "<Figure size 432x288 with 1 Axes>"
      ]
     },
     "metadata": {
      "needs_background": "light"
     },
     "output_type": "display_data"
    }
   ],
   "source": [
    "plt.plot(pca.explained_variance_ratio_)\n"
   ]
  },
  {
   "cell_type": "code",
   "execution_count": 9,
   "metadata": {},
   "outputs": [
    {
     "data": {
      "text/plain": [
       "array([0.2535719 , 0.3552235 , 0.44389743, 0.5224686 , 0.57524127,\n",
       "       0.61559635, 0.64963114, 0.68136483, 0.70738524, 0.73093516,\n",
       "       0.7533637 , 0.772163  , 0.7897722 , 0.8069108 , 0.8231945 ,\n",
       "       0.8361334 , 0.84867054, 0.8604132 , 0.8711475 , 0.8815564 ,\n",
       "       0.8906363 , 0.89893997, 0.90674525, 0.9138557 , 0.92055154,\n",
       "       0.9262984 , 0.9316359 , 0.9365528 , 0.9410442 , 0.94532   ,\n",
       "       0.9494873 , 0.9532274 , 0.95683783, 0.96027863, 0.9633035 ,\n",
       "       0.9662923 , 0.9690295 , 0.9713955 , 0.97368336, 0.9755804 ,\n",
       "       0.9772322 , 0.9788063 , 0.980285  , 0.9817227 , 0.9830763 ,\n",
       "       0.98431903, 0.985483  , 0.98660564, 0.9876627 , 0.9886608 ,\n",
       "       0.989576  , 0.9903634 , 0.9911115 , 0.99181837, 0.99250674,\n",
       "       0.99317616, 0.99373996, 0.9942675 , 0.99476796, 0.99523735,\n",
       "       0.9956601 , 0.996048  , 0.9964134 , 0.99673927, 0.9970548 ,\n",
       "       0.9973557 , 0.9976214 , 0.997863  , 0.9980913 , 0.99830383,\n",
       "       0.9985152 , 0.9986986 , 0.9988679 , 0.9990307 , 0.99917704,\n",
       "       0.9993007 , 0.9994193 , 0.99951994, 0.9996122 , 0.9996889 ,\n",
       "       0.9997537 , 0.999817  , 0.9998662 , 0.99990934, 0.9999439 ,\n",
       "       0.99997556, 0.99999964, 0.99999964, 0.99999964, 0.99999964,\n",
       "       0.99999964, 0.99999964, 0.99999964, 0.99999964, 0.99999964,\n",
       "       0.99999964, 0.99999964, 0.99999964, 0.99999964, 0.99999964,\n",
       "       0.99999964, 0.99999964, 0.99999964, 0.99999964, 0.99999964,\n",
       "       0.99999964, 0.99999964, 0.99999964, 0.99999964, 0.99999964,\n",
       "       0.99999964, 0.99999964, 0.99999964, 0.99999964, 0.99999964,\n",
       "       0.99999964, 0.99999964, 0.99999964, 0.99999964, 0.99999964,\n",
       "       0.99999964, 0.99999964, 0.99999964, 0.99999964, 0.99999964,\n",
       "       0.99999964, 0.99999964, 0.99999964, 0.99999964, 0.99999964,\n",
       "       0.99999964, 0.99999964, 0.99999964, 0.99999964, 0.99999964,\n",
       "       0.99999964, 0.99999964, 0.99999964, 0.99999964, 0.99999964,\n",
       "       0.99999964, 0.99999964, 0.99999964, 0.99999964, 0.99999964,\n",
       "       0.99999964, 0.99999964, 0.99999964, 0.99999964, 0.99999964,\n",
       "       0.99999964, 0.99999964, 0.99999964, 0.99999964, 0.99999964,\n",
       "       0.99999964, 0.99999964, 0.99999964, 0.99999964, 0.99999964,\n",
       "       0.99999964, 0.99999964, 0.99999964, 0.99999964, 0.99999964,\n",
       "       0.99999964, 0.99999964, 0.99999964, 0.99999964, 0.99999964,\n",
       "       0.99999964, 0.99999964, 0.99999964, 0.99999964, 0.99999964,\n",
       "       0.99999964, 0.99999964, 0.99999964, 0.99999964, 0.99999964,\n",
       "       0.99999964, 0.99999964, 0.99999964, 0.99999964, 0.99999964,\n",
       "       0.99999964, 0.99999964, 0.99999964, 0.99999964, 0.99999964,\n",
       "       0.99999964, 0.99999964, 0.99999964, 0.99999964, 0.99999964,\n",
       "       0.99999964, 0.99999964, 0.99999964, 0.99999964, 0.99999964,\n",
       "       0.99999964, 0.99999964, 0.99999964, 0.99999964, 0.99999964,\n",
       "       0.99999964, 0.99999964, 0.99999964, 0.99999964, 0.99999964,\n",
       "       0.99999964, 0.99999964, 0.99999964, 0.99999964, 0.99999964,\n",
       "       0.99999964, 0.99999964, 0.99999964, 0.99999964, 0.99999964,\n",
       "       0.99999964, 0.99999964, 0.99999964, 0.99999964, 0.99999964,\n",
       "       0.99999964, 0.99999964, 0.99999964, 0.99999964, 0.99999964,\n",
       "       0.99999964, 0.99999964, 0.99999964, 0.99999964, 0.99999964,\n",
       "       0.99999964, 0.99999964, 0.99999964, 0.99999964, 0.99999964,\n",
       "       0.99999964, 0.99999964, 0.99999964, 0.99999964, 0.99999964,\n",
       "       0.99999964, 0.99999964, 0.99999964, 0.99999964, 0.99999964,\n",
       "       0.99999964, 0.99999964, 0.99999964, 0.99999964, 0.99999964,\n",
       "       0.99999964, 0.99999964, 0.99999964, 0.99999964, 0.99999964,\n",
       "       0.99999964, 0.99999964, 0.99999964, 0.99999964, 0.99999964,\n",
       "       0.99999964, 0.99999964, 0.99999964, 0.99999964, 0.99999964,\n",
       "       0.99999964, 0.99999964, 0.99999964, 0.99999964, 0.99999964,\n",
       "       0.99999964, 0.99999964, 0.99999964, 0.99999964, 0.99999964,\n",
       "       0.99999964, 0.99999964, 0.99999964, 0.99999964, 0.99999964,\n",
       "       0.99999964, 0.99999964, 0.99999964, 0.99999964, 0.99999964,\n",
       "       0.99999964, 0.99999964, 0.99999964, 0.99999964, 0.99999964,\n",
       "       0.99999964, 0.99999964, 0.99999964, 0.99999964, 0.99999964],\n",
       "      dtype=float32)"
      ]
     },
     "execution_count": 9,
     "metadata": {},
     "output_type": "execute_result"
    }
   ],
   "source": [
    "np.cumsum(pca.explained_variance_ratio_)"
   ]
  },
  {
   "cell_type": "code",
   "execution_count": 10,
   "metadata": {},
   "outputs": [
    {
     "name": "stdout",
     "output_type": "stream",
     "text": [
      "0.9 23\n",
      "0.95 32\n",
      "0.99 52\n"
     ]
    }
   ],
   "source": [
    "pcts = [.90, .95, .99]\n",
    "for pct in pcts:\n",
    "    vaf = np.sum(np.cumsum(pca.explained_variance_ratio_ ) <pct) + 1\n",
    "    print(pct, vaf)"
   ]
  },
  {
   "attachments": {},
   "cell_type": "markdown",
   "metadata": {},
   "source": [
    "# Full code for all three features"
   ]
  },
  {
   "cell_type": "code",
   "execution_count": 11,
   "metadata": {},
   "outputs": [
    {
     "name": "stdout",
     "output_type": "stream",
     "text": [
      "-- feature: bg\n",
      "0.9 23\n",
      "0.95 32\n",
      "0.99 52\n",
      "-- feature: actions\n",
      "0.9 25\n",
      "0.95 36\n",
      "0.99 60\n",
      "-- feature: agents\n",
      "0.9 23\n",
      "0.95 31\n",
      "0.99 50\n"
     ]
    }
   ],
   "source": [
    "# Full code for all three features\n",
    "data_dir = '/Volumes/life_data'\n",
    "model_dir = os.path.join(data_dir, 'w2v_feature')\n",
    "\n",
    "pcts = [.90, .95, .99]\n",
    "for f in ['bg', 'actions', 'agents']:\n",
    "    model_f = f'visual_{f}.npy'\n",
    "    model = np.load(os.path.join(model_dir, model_f))\n",
    "    pca = PCA()\n",
    "    pca.fit(model)\n",
    "    print(\"-- feature:\", f)\n",
    "    for pct in pcts:\n",
    "        vaf = np.sum(np.cumsum(pca.explained_variance_ratio_ ) <pct) + 1\n",
    "        print(pct, vaf)"
   ]
  },
  {
   "cell_type": "code",
   "execution_count": 12,
   "metadata": {},
   "outputs": [],
   "source": [
    "model_durs = {1: 369, 2: 341, 3: 372, 4: 406}\n",
    "model_splits = np.cumsum(list(model_durs.values()))[:-1]\n",
    "model_runs = np.split(model, model_splits, axis=0)"
   ]
  },
  {
   "cell_type": "code",
   "execution_count": 13,
   "metadata": {},
   "outputs": [
    {
     "data": {
      "text/plain": [
       "array([ 369,  710, 1082])"
      ]
     },
     "execution_count": 13,
     "metadata": {},
     "output_type": "execute_result"
    }
   ],
   "source": [
    "model_splits"
   ]
  },
  {
   "cell_type": "code",
   "execution_count": 17,
   "metadata": {},
   "outputs": [
    {
     "name": "stdout",
     "output_type": "stream",
     "text": [
      "(369, 300)\n",
      "(341, 300)\n",
      "(372, 300)\n",
      "(406, 300)\n"
     ]
    }
   ],
   "source": [
    "for i in model_runs:\n",
    "    print(i.shape)\n"
   ]
  },
  {
   "cell_type": "code",
   "execution_count": 18,
   "metadata": {},
   "outputs": [
    {
     "name": "stdout",
     "output_type": "stream",
     "text": [
      "[1, 2, 3]\n",
      "[0, 2, 3]\n",
      "[0, 1, 3]\n",
      "[0, 1, 2]\n"
     ]
    }
   ],
   "source": [
    "for testrun in np.arange(4):\n",
    "    trainruns = [r for r in np.arange(4) if r != testrun]\n",
    "    print(trainruns)"
   ]
  },
  {
   "attachments": {},
   "cell_type": "markdown",
   "metadata": {},
   "source": [
    "# V2 taking folds into account"
   ]
  },
  {
   "cell_type": "code",
   "execution_count": 37,
   "metadata": {},
   "outputs": [
    {
     "name": "stdout",
     "output_type": "stream",
     "text": [
      "testrun: 0\n",
      "(1119, 300)\n",
      "-- feature: bg\n",
      "0.9 20\n",
      "0.95 27\n",
      "0.99 44\n",
      "(1119, 300)\n",
      "-- feature: actions\n",
      "0.9 24\n",
      "0.95 33\n",
      "0.99 52\n",
      "(1119, 300)\n",
      "-- feature: agents\n",
      "0.9 19\n",
      "0.95 26\n",
      "0.99 40\n",
      "testrun: 1\n",
      "(1147, 300)\n",
      "-- feature: bg\n",
      "0.9 22\n",
      "0.95 31\n",
      "0.99 50\n",
      "(1147, 300)\n",
      "-- feature: actions\n",
      "0.9 26\n",
      "0.95 36\n",
      "0.99 56\n",
      "(1147, 300)\n",
      "-- feature: agents\n",
      "0.9 21\n",
      "0.95 28\n",
      "0.99 45\n",
      "testrun: 2\n",
      "(1116, 300)\n",
      "-- feature: bg\n",
      "0.9 22\n",
      "0.95 28\n",
      "0.99 45\n",
      "(1116, 300)\n",
      "-- feature: actions\n",
      "0.9 23\n",
      "0.95 33\n",
      "0.99 51\n",
      "(1116, 300)\n",
      "-- feature: agents\n",
      "0.9 20\n",
      "0.95 27\n",
      "0.99 42\n",
      "testrun: 3\n",
      "(1082, 300)\n",
      "-- feature: bg\n",
      "0.9 23\n",
      "0.95 31\n",
      "0.99 49\n",
      "(1082, 300)\n",
      "-- feature: actions\n",
      "0.9 25\n",
      "0.95 36\n",
      "0.99 55\n",
      "(1082, 300)\n",
      "-- feature: agents\n",
      "0.9 19\n",
      "0.95 26\n",
      "0.99 42\n"
     ]
    }
   ],
   "source": [
    "# Full code for all three features\n",
    "data_dir = '/Volumes/life_data'\n",
    "model_dir = os.path.join(data_dir, 'w2v_feature')\n",
    "\n",
    "model_durs = {1: 369, 2: 341, 3: 372, 4: 406}\n",
    "model_splits = np.cumsum(list(model_durs.values()))[:-1]\n",
    "\n",
    "\n",
    "pcts = [.90, .95, .99]\n",
    "for testrun in np.arange(4):\n",
    "    # trainruns = [r for r in np.arange(4) if r != testrun]\n",
    "    print(f\"testrun: {testrun}\")\n",
    "    for f in ['bg', 'actions', 'agents']:\n",
    "        model_f = f'visual_{f}.npy'\n",
    "        model = np.load(os.path.join(model_dir, model_f))\n",
    "        model_runs = np.vstack([m for i, m in enumerate(np.split(model, model_splits, axis=0)) if i != testrun])\n",
    "        # model_runs = np.array(np.split(model, model_splits, axis=0))[trainruns]\n",
    "\n",
    "        pca = PCA()\n",
    "        scaler = StandardScaler()\n",
    "        model_stack = scaler.fit_transform(model_runs)\n",
    "        pca.fit(model_stack)\n",
    "        print(model_stack.shape)\n",
    "        print(\"-- feature:\", f)\n",
    "        for pct in pcts:\n",
    "            vaf = np.sum(np.cumsum(pca.explained_variance_ratio_ ) <pct) + 1\n",
    "            print(pct, vaf)"
   ]
  },
  {
   "attachments": {},
   "cell_type": "markdown",
   "metadata": {},
   "source": [
    "- round number\n",
    "- relatively over .95 for every feature and run\n",
    "- 40 components (over .95 for all)\n",
    "- 60 components (over .99 for all)"
   ]
  },
  {
   "cell_type": "code",
   "execution_count": null,
   "metadata": {},
   "outputs": [],
   "source": [
    "# load model\n",
    "def load_model(model_f, train_runs, test_run, model_durs,\n",
    "               run_pca=False, n_components=None):\n",
    "    \n",
    "    # Load model and split into runs\n",
    "    print(f\"\\n2. Semantic model ({model_f.split('_')[1].split('.')[0]})\")\n",
    "    model = np.load(os.path.join(model_dir, model_f))\n",
    "    model_splits = np.cumsum(list(model_durs.values()))[:-1]\n",
    "    model_runs = np.split(model, model_splits, axis=0)\n",
    "    assert [len(r) for r in model_runs] == list(model_durs.values())\n",
    "\n",
    "    # Split model runs into training and test sets\n",
    "    train_model = model_runs[:test_run - 1] + model_runs[test_run:]\n",
    "    test_model = model_runs[test_run - 1]\n",
    "    for m in train_model:\n",
    "        assert not np.array_equal(m, test_model)\n",
    "\n",
    "    # Optionally reduce dimensionality of model with PCA\n",
    "    if run_pca:\n",
    "\n",
    "        # Concatenate training model across runs\n",
    "        train_splits = np.cumsum([len(r) for r in train_model])[:-1]\n",
    "        train_model = np.concatenate(train_model, axis=0)\n",
    "\n",
    "        assert train_model.shape[1] == test_model.shape[1] == model_ndim\n",
    "        train_model, test_model = model_pca(train_model,\n",
    "                                            test_model,\n",
    "                                            n_components)\n",
    "        \n",
    "        # Re-split training model into runs\n",
    "        train_model = np.split(train_model, train_splits)\n",
    "\n",
    "    # Horizontally stack lagged versions of the stimulus model\n",
    "    lags = [1, 2, 3, 4]\n",
    "    train_cats, train_durs = [], {}\n",
    "    for r, train_run in zip(train_runs, train_model):\n",
    "        train_cat = np.concatenate((train_run[lags[-1] - 1:-lags[0]],\n",
    "                                    train_run[lags[-2] - 1:-lags[1]],\n",
    "                                    train_run[lags[-3] - 1:-lags[2]],\n",
    "                                    train_run[lags[-4] - 1:-lags[3]]), axis=1)\n",
    "        \n",
    "        # Z-score each training run\n",
    "        train_cat = zscore(train_cat, axis=0)\n",
    "        \n",
    "        train_cats.append(train_cat)\n",
    "        train_durs[r] = train_cat.shape[0]\n",
    "        print(f\"Train model run {r} shape:\"\n",
    "              f\"\\n\\toriginal {train_run.shape} -> lagged {train_cat.shape}\")\n",
    "    train_model = np.concatenate(train_cats, axis=0)\n",
    "    \n",
    "    test_model = np.concatenate((test_model[lags[-1] - 1:-lags[0]],\n",
    "                                 test_model[lags[-2] - 1:-lags[1]],\n",
    "                                 test_model[lags[-3] - 1:-lags[2]],\n",
    "                                 test_model[lags[-4] - 1:-lags[3]]), axis=1)\n",
    "    \n",
    "    # Z-score each model run separately\n",
    "    test_model = zscore(test_model, axis=0)\n",
    "    \n",
    "    print(\"Concatenated training model shape:\", train_model.shape,\n",
    "          f\"\\nTest model run {test_run} shape:\", test_model.shape)\n",
    "\n",
    "    return train_model, train_durs, test_model"
   ]
  }
 ],
 "metadata": {
  "kernelspec": {
   "display_name": "spacetop_datalad",
   "language": "python",
   "name": "python3"
  },
  "language_info": {
   "codemirror_mode": {
    "name": "ipython",
    "version": 3
   },
   "file_extension": ".py",
   "mimetype": "text/x-python",
   "name": "python",
   "nbconvert_exporter": "python",
   "pygments_lexer": "ipython3",
   "version": "3.9.16"
  },
  "orig_nbformat": 4,
  "vscode": {
   "interpreter": {
    "hash": "84c6315c5c633ad37de61bf1803ac3fc9b8c165790b101d56c165935d734a051"
   }
  }
 },
 "nbformat": 4,
 "nbformat_minor": 2
}

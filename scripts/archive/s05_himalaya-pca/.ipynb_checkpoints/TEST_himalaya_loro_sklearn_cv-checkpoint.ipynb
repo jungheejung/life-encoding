{
 "cells": [
  {
   "cell_type": "markdown",
   "id": "9705c729",
   "metadata": {},
   "source": [
    "purpose of this notebook:\n",
    "test himalaya sklearn LORO cv scheme with mock data"
   ]
  },
  {
   "cell_type": "code",
   "execution_count": 1,
   "id": "51b06341",
   "metadata": {},
   "outputs": [
    {
     "ename": "ModuleNotFoundError",
     "evalue": "No module named 'pandas'",
     "output_type": "error",
     "traceback": [
      "\u001b[0;31m---------------------------------------------------------------------------\u001b[0m",
      "\u001b[0;31mModuleNotFoundError\u001b[0m                       Traceback (most recent call last)",
      "\u001b[0;32m/scratch/ipykernel_27708/1816776219.py\u001b[0m in \u001b[0;36m<module>\u001b[0;34m\u001b[0m\n\u001b[1;32m      1\u001b[0m \u001b[0;32mimport\u001b[0m \u001b[0msklearn\u001b[0m\u001b[0;34m\u001b[0m\u001b[0;34m\u001b[0m\u001b[0m\n\u001b[1;32m      2\u001b[0m \u001b[0;32mfrom\u001b[0m \u001b[0msklearn\u001b[0m\u001b[0;34m.\u001b[0m\u001b[0mmodel_selection\u001b[0m \u001b[0;32mimport\u001b[0m \u001b[0mLeaveOneGroupOut\u001b[0m\u001b[0;34m\u001b[0m\u001b[0;34m\u001b[0m\u001b[0m\n\u001b[0;32m----> 3\u001b[0;31m \u001b[0;32mimport\u001b[0m \u001b[0mpandas\u001b[0m \u001b[0;32mas\u001b[0m \u001b[0mpd\u001b[0m\u001b[0;34m\u001b[0m\u001b[0;34m\u001b[0m\u001b[0m\n\u001b[0m\u001b[1;32m      4\u001b[0m \u001b[0;32mimport\u001b[0m \u001b[0mnumpy\u001b[0m \u001b[0;32mas\u001b[0m \u001b[0mnp\u001b[0m\u001b[0;34m\u001b[0m\u001b[0;34m\u001b[0m\u001b[0m\n",
      "\u001b[0;31mModuleNotFoundError\u001b[0m: No module named 'pandas'"
     ]
    }
   ],
   "source": [
    "import sklearn\n",
    "from sklearn.model_selection import LeaveOneGroupOut\n",
    "import pandas as pd\n",
    "import numpy as np\n",
    "from himalaya.ridge import GroupRidgeCV"
   ]
  },
  {
   "cell_type": "code",
   "execution_count": null,
   "id": "e4ff3422",
   "metadata": {},
   "outputs": [],
   "source": [
    "fold_shifted = 4\n",
    "included = [1, 2, 3, 4]\n",
    "included.remove(fold_shifted)\n",
    "tr_movie = {1: 369, 2: 341, 3: 372, 4: 406}\n",
    "tr_fmri = {1: 374, 2: 346, 3: 377, 4: 412}"
   ]
  },
  {
   "cell_type": "code",
   "execution_count": null,
   "id": "4f488b3c",
   "metadata": {},
   "outputs": [],
   "source": [
    "X1train = np.zeros((1073, 120))\n",
    "Ytrain = np.zeros((1073, 3))\n",
    "train_id = np.arange(X1train.shape[0])\n",
    "dur1, dur2, dur3 = tr_movie[included[0]] - \\\n",
    "    3, tr_movie[included[1]] - 3, tr_movie[included[2]] - 3\n",
    "Ytrain_id = np.arange(Ytrain.shape[0])"
   ]
  },
  {
   "cell_type": "code",
   "execution_count": null,
   "id": "678ccff2",
   "metadata": {},
   "outputs": [],
   "source": [
    "tr_movie= {1: 366, 2: 338, 3: 369, 4: 403}\n",
    "run_tr = np.concatenate([ [r] *t for r, t in tr_movie.items()])\n",
    "print(run_tr)\n",
    "loro_outer = sklearn.model_selection.PredefinedSplit(run_tr)\n",
    "loro_outer.get_n_splits(np.arange(1476), np.arange(1476), run_tr)\n"
   ]
  }
 ],
 "metadata": {
  "kernelspec": {
   "display_name": "Python 3 (ipykernel)",
   "language": "python",
   "name": "python3"
  },
  "language_info": {
   "codemirror_mode": {
    "name": "ipython",
    "version": 3
   },
   "file_extension": ".py",
   "mimetype": "text/x-python",
   "name": "python",
   "nbconvert_exporter": "python",
   "pygments_lexer": "ipython3",
   "version": "3.9.7"
  }
 },
 "nbformat": 4,
 "nbformat_minor": 5
}

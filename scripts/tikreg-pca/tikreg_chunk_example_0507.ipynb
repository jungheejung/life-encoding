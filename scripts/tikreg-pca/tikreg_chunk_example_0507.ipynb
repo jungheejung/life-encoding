{
 "cells": [
  {
   "cell_type": "markdown",
   "metadata": {},
   "source": [
    "# Overview\n",
    "This notebook is to check the outputs from tikhonov regressions\n",
    "There are two major things that we want to check\n",
    "1. are the medial wall zero values being handled well and indexed? \n",
    "2. What is the distribution of the values?\n",
    "3. can we concatenate the values easily back together? are there issues if running the jobs in chunks?\n",
    "\n"
   ]
  },
  {
   "cell_type": "code",
   "execution_count": 1,
   "metadata": {},
   "outputs": [],
   "source": [
    "import pandas as pd\n",
    "import matplotlib.pyplot as plt\n",
    "import numpy as np\n",
    "import seaborn as sns"
   ]
  },
  {
   "cell_type": "markdown",
   "metadata": {},
   "source": [
    "# directory"
   ]
  },
  {
   "cell_type": "code",
   "execution_count": 2,
   "metadata": {},
   "outputs": [],
   "source": [
    "mount_dir = 'smb://dartfs/rc/lab/D/DBIC/DBIC/f0042x1/life-encoding/scripts/tikreg-pca/'\n",
    "mount_dir = '/Volumes/life-encoding/scripts/tikreg-pca'"
   ]
  },
  {
   "cell_type": "code",
   "execution_count": 4,
   "metadata": {},
   "outputs": [],
   "source": [
    "# parameters\n",
    "MODEL=\"visual\"\n",
    "ALIGN=\"ws\"\n",
    "STIM1=\"bg\"\n",
    "STIM2=\"actions\"\n",
    "STIM3=\"agents\"\n",
    "SUB=\"sub-rid000024\"\n",
    "RUN=3\n",
    "HEMI=\"lh\"\n",
    "NODE=32\n"
   ]
  },
  {
   "cell_type": "code",
   "execution_count": 5,
   "metadata": {},
   "outputs": [],
   "source": [
    "sub = 'sub-rid000024'\n",
    "model = 'visual'\n",
    "align = 'ws'\n",
    "feature = 'actions'\n",
    "hemi = 'lh'\n",
    "node_range = 32\n",
    "increment = 20\n",
    "run = 3\n",
    "fold_shifted = run + 1\n"
   ]
  },
  {
   "cell_type": "code",
   "execution_count": 6,
   "metadata": {},
   "outputs": [],
   "source": [
    "filename = 'corrcoef_{0}_model-{1}_align-{2}_feature-{3}_foldshifted-{4}_hemi-{5}_range-620-639.json'.format(\n",
    "    sub, model, align, feature, fold_shifted, hemi )"
   ]
  },
  {
   "cell_type": "code",
   "execution_count": 7,
   "metadata": {},
   "outputs": [],
   "source": [
    "n_vertices = 40962\n",
    "n_proc = 32     # how many cores do we have?\n",
    "n_medial = {'lh': 3486, 'rh': 3491}\n",
    "\n",
    "alpha_shape = n_vertices - n_medial[hemi]\n",
    "zero_df = pd.DataFrame(np.zeros(( n_vertices, 1)))"
   ]
  },
  {
   "cell_type": "code",
   "execution_count": 8,
   "metadata": {},
   "outputs": [
    {
     "ename": "NameError",
     "evalue": "name 'corr_x1_numpy' is not defined",
     "output_type": "error",
     "traceback": [
      "\u001b[0;31m---------------------------------------------------------------------------\u001b[0m",
      "\u001b[0;31mNameError\u001b[0m                                 Traceback (most recent call last)",
      "\u001b[0;32m<ipython-input-8-e90abbf7db10>\u001b[0m in \u001b[0;36m<module>\u001b[0;34m\u001b[0m\n\u001b[1;32m      3\u001b[0m \u001b[0;31m## if numpy array\u001b[0m\u001b[0;34m\u001b[0m\u001b[0;34m\u001b[0m\u001b[0;34m\u001b[0m\u001b[0m\n\u001b[1;32m      4\u001b[0m \u001b[0;31m##\u001b[0m\u001b[0;34m\u001b[0m\u001b[0;34m\u001b[0m\u001b[0;34m\u001b[0m\u001b[0m\n\u001b[0;32m----> 5\u001b[0;31m \u001b[0mdf_x1\u001b[0m \u001b[0;34m=\u001b[0m \u001b[0mpd\u001b[0m\u001b[0;34m.\u001b[0m\u001b[0mDataFrame\u001b[0m\u001b[0;34m(\u001b[0m\u001b[0mcorr_x1_numpy\u001b[0m\u001b[0;34m)\u001b[0m\u001b[0;34m\u001b[0m\u001b[0;34m\u001b[0m\u001b[0m\n\u001b[0m\u001b[1;32m      6\u001b[0m \u001b[0;34m\u001b[0m\u001b[0m\n\u001b[1;32m      7\u001b[0m \u001b[0mdf_x1\u001b[0m\u001b[0;34m.\u001b[0m\u001b[0mrename\u001b[0m\u001b[0;34m(\u001b[0m\u001b[0;34m{\u001b[0m\u001b[0;36m0\u001b[0m\u001b[0;34m:\u001b[0m\u001b[0;34m'index'\u001b[0m\u001b[0;34m,\u001b[0m \u001b[0;36m1\u001b[0m\u001b[0;34m:\u001b[0m\u001b[0;34m'corr'\u001b[0m\u001b[0;34m}\u001b[0m\u001b[0;34m,\u001b[0m \u001b[0maxis\u001b[0m \u001b[0;34m=\u001b[0m \u001b[0;34m'columns'\u001b[0m\u001b[0;34m,\u001b[0m \u001b[0minplace\u001b[0m \u001b[0;34m=\u001b[0m \u001b[0;32mTrue\u001b[0m\u001b[0;34m)\u001b[0m\u001b[0;34m\u001b[0m\u001b[0;34m\u001b[0m\u001b[0m\n",
      "\u001b[0;31mNameError\u001b[0m: name 'corr_x1_numpy' is not defined"
     ]
    }
   ],
   "source": [
    "# output corr .json as niml.dset\n",
    "## load file\n",
    "## if numpy array\n",
    "## \n",
    "df_x1 = pd.DataFrame(corr_x1_numpy)\n",
    "\n",
    "df_x1.rename({0:'index', 1:'corr'}, axis = 'columns', inplace = True)\n",
    "df_x1['index'] = df_x1['index'].astype(int)\n",
    "df_x1.set_index('index', inplace = True)\n",
    "del df_x1.index.name\n",
    "df_x1.rename({'corr':0}, axis = 'columns', inplace = True)\n",
    "\n",
    "# merge\n",
    "zero_df.update(df_x1)"
   ]
  },
  {
   "cell_type": "markdown",
   "metadata": {},
   "source": [
    "## medial wall"
   ]
  },
  {
   "cell_type": "markdown",
   "metadata": {},
   "source": [
    "ind_nonmedial: [620 621 622 623 624 625 626 627 628 629 630 631 632 633]\n",
    "ind_medial: [634 635 636 637 638 639]"
   ]
  },
  {
   "cell_type": "code",
   "execution_count": 10,
   "metadata": {},
   "outputs": [
    {
     "ename": "NameError",
     "evalue": "name 'mv' is not defined",
     "output_type": "error",
     "traceback": [
      "\u001b[0;31m---------------------------------------------------------------------------\u001b[0m",
      "\u001b[0;31mNameError\u001b[0m                                 Traceback (most recent call last)",
      "\u001b[0;32m<ipython-input-10-1c472dad8a58>\u001b[0m in \u001b[0;36m<module>\u001b[0;34m\u001b[0m\n\u001b[1;32m      1\u001b[0m \u001b[0mcortical_vertices\u001b[0m \u001b[0;34m=\u001b[0m \u001b[0;34m{\u001b[0m\u001b[0;34m}\u001b[0m\u001b[0;34m\u001b[0m\u001b[0;34m\u001b[0m\u001b[0m\n\u001b[1;32m      2\u001b[0m \u001b[0;32mfor\u001b[0m \u001b[0mhalf\u001b[0m \u001b[0;32min\u001b[0m \u001b[0;34m[\u001b[0m\u001b[0;34m'lh'\u001b[0m\u001b[0;34m,\u001b[0m \u001b[0;34m'rh'\u001b[0m\u001b[0;34m]\u001b[0m\u001b[0;34m:\u001b[0m\u001b[0;34m\u001b[0m\u001b[0;34m\u001b[0m\u001b[0m\n\u001b[0;32m----> 3\u001b[0;31m     test_ds = mv.niml.read(\n\u001b[0m\u001b[1;32m      4\u001b[0m         '/dartfs/rc/lab/D/DBIC/DBIC/life_data/niml/ws.{0}.niml.dset'.format(half))\n\u001b[1;32m      5\u001b[0m     \u001b[0mcortical_vertices\u001b[0m\u001b[0;34m[\u001b[0m\u001b[0mhalf\u001b[0m\u001b[0;34m]\u001b[0m \u001b[0;34m=\u001b[0m \u001b[0mnp\u001b[0m\u001b[0;34m.\u001b[0m\u001b[0mones\u001b[0m\u001b[0;34m(\u001b[0m\u001b[0;34m(\u001b[0m\u001b[0mn_vertices\u001b[0m\u001b[0;34m)\u001b[0m\u001b[0;34m)\u001b[0m\u001b[0;34m\u001b[0m\u001b[0;34m\u001b[0m\u001b[0m\n",
      "\u001b[0;31mNameError\u001b[0m: name 'mv' is not defined"
     ]
    }
   ],
   "source": [
    "cortical_vertices = {}\n",
    "for half in ['lh', 'rh']:\n",
    "    test_ds = mv.niml.read(\n",
    "        '/dartfs/rc/lab/D/DBIC/DBIC/life_data/niml/ws.{0}.niml.dset'.format(half))\n",
    "    cortical_vertices[half] = np.ones((n_vertices))\n",
    "    cortical_vertices[half][np.sum(\n",
    "        test_ds.samples[1:, :] != 0, axis=0) == 0] = 0\n",
    "med_wall_ind = np.where(cortical_vertices[hemi] == 0)[0]\n"
   ]
  },
  {
   "cell_type": "code",
   "execution_count": 11,
   "metadata": {},
   "outputs": [
    {
     "ename": "NameError",
     "evalue": "name 'med_wall_ind' is not defined",
     "output_type": "error",
     "traceback": [
      "\u001b[0;31m---------------------------------------------------------------------------\u001b[0m",
      "\u001b[0;31mNameError\u001b[0m                                 Traceback (most recent call last)",
      "\u001b[0;32m<ipython-input-11-76f67ffed70f>\u001b[0m in \u001b[0;36m<module>\u001b[0;34m\u001b[0m\n\u001b[0;32m----> 1\u001b[0;31m \u001b[0mmed_df\u001b[0m \u001b[0;34m=\u001b[0m \u001b[0mpd\u001b[0m\u001b[0;34m.\u001b[0m\u001b[0mDataFrame\u001b[0m\u001b[0;34m(\u001b[0m\u001b[0mmed_wall_ind\u001b[0m\u001b[0;34m)\u001b[0m\u001b[0;34m\u001b[0m\u001b[0;34m\u001b[0m\u001b[0m\n\u001b[0m\u001b[1;32m      2\u001b[0m \u001b[0mmed_df\u001b[0m\u001b[0;34m.\u001b[0m\u001b[0mrename\u001b[0m\u001b[0;34m(\u001b[0m\u001b[0;34m{\u001b[0m\u001b[0;36m0\u001b[0m\u001b[0;34m:\u001b[0m\u001b[0;34m'index'\u001b[0m\u001b[0;34m}\u001b[0m\u001b[0;34m,\u001b[0m \u001b[0maxis\u001b[0m \u001b[0;34m=\u001b[0m \u001b[0;34m'columns'\u001b[0m\u001b[0;34m,\u001b[0m \u001b[0minplace\u001b[0m \u001b[0;34m=\u001b[0m \u001b[0;32mTrue\u001b[0m\u001b[0;34m)\u001b[0m\u001b[0;34m\u001b[0m\u001b[0;34m\u001b[0m\u001b[0m\n\u001b[1;32m      3\u001b[0m \u001b[0mmed_df\u001b[0m\u001b[0;34m[\u001b[0m\u001b[0;34m'values'\u001b[0m\u001b[0;34m]\u001b[0m \u001b[0;34m=\u001b[0m \u001b[0;36m0\u001b[0m\u001b[0;34m\u001b[0m\u001b[0;34m\u001b[0m\u001b[0m\n\u001b[1;32m      4\u001b[0m \u001b[0mmed_df\u001b[0m\u001b[0;34m[\u001b[0m\u001b[0;34m'index'\u001b[0m\u001b[0;34m]\u001b[0m \u001b[0;34m=\u001b[0m \u001b[0mmed_df\u001b[0m\u001b[0;34m[\u001b[0m\u001b[0;34m'index'\u001b[0m\u001b[0;34m]\u001b[0m\u001b[0;34m.\u001b[0m\u001b[0mastype\u001b[0m\u001b[0;34m(\u001b[0m\u001b[0mint\u001b[0m\u001b[0;34m)\u001b[0m\u001b[0;34m\u001b[0m\u001b[0;34m\u001b[0m\u001b[0m\n\u001b[1;32m      5\u001b[0m \u001b[0mmed_df\u001b[0m\u001b[0;34m.\u001b[0m\u001b[0mset_index\u001b[0m\u001b[0;34m(\u001b[0m\u001b[0;34m'index'\u001b[0m\u001b[0;34m,\u001b[0m \u001b[0minplace\u001b[0m \u001b[0;34m=\u001b[0m \u001b[0;32mTrue\u001b[0m\u001b[0;34m)\u001b[0m\u001b[0;34m\u001b[0m\u001b[0;34m\u001b[0m\u001b[0m\n",
      "\u001b[0;31mNameError\u001b[0m: name 'med_wall_ind' is not defined"
     ]
    }
   ],
   "source": [
    "med_df = pd.DataFrame(med_wall_ind)\n",
    "med_df.rename({0:'index'}, axis = 'columns', inplace = True)\n",
    "med_df['values'] = 0\n",
    "med_df['index'] = med_df['index'].astype(int)\n",
    "med_df.set_index('index', inplace = True)\n",
    "del med_df.index.name\n",
    "med_df.rename({'values':0}, axis = 'columns', inplace = True)\n"
   ]
  },
  {
   "cell_type": "code",
   "execution_count": null,
   "metadata": {},
   "outputs": [],
   "source": [
    "zero_df.update(med_df)"
   ]
  },
  {
   "cell_type": "code",
   "execution_count": null,
   "metadata": {},
   "outputs": [],
   "source": [
    "# pandas dataframe as numpy\n",
    "output = zero_df[0].to_list()\n",
    "out_x1 = np.transpose(output)"
   ]
  },
  {
   "cell_type": "code",
   "execution_count": null,
   "metadata": {},
   "outputs": [],
   "source": [
    "# out1 = np.zeros(\n",
    "#     (corr_x1.shape[0] + med_wall_ind.shape[0]), dtype=np.dtype(corr_x1).type)\n",
    "# out1[cortical_vertices[hemi] == 1] = corr_x1\n",
    "mv.niml.write(os.path.join(mount_dir, 'sample_data'\n",
    "                           'corrcoef_{0}_model-{1}_align-{2}_feature-{3}_foldshifted-{4}_hemi_{5}.niml.dset'.format(\n",
    "    sub, model, align, feature, fold_shifted, hemi)), out_x1[None, :])\n",
    "# sub, model, align, feature, fold_shifted, hemi\n",
    "\n",
    "# mv.niml.write(os.path.join(directory, 'corrcoef_{0}_model-{1}_align-{2}_feature-{3}_foldshifted-{4}_hemi_{5}.niml.dset'.format(test_p, model, align, stimfile1, fold_shifted, hemi)), out1[None,:])"
   ]
  },
  {
   "cell_type": "markdown",
   "metadata": {},
   "source": [
    "# read and plot"
   ]
  },
  {
   "cell_type": "code",
   "execution_count": 12,
   "metadata": {},
   "outputs": [
    {
     "ename": "NameError",
     "evalue": "name 'mv' is not defined",
     "output_type": "error",
     "traceback": [
      "\u001b[0;31m---------------------------------------------------------------------------\u001b[0m",
      "\u001b[0;31mNameError\u001b[0m                                 Traceback (most recent call last)",
      "\u001b[0;32m<ipython-input-12-49f3f08fec2e>\u001b[0m in \u001b[0;36m<module>\u001b[0;34m\u001b[0m\n\u001b[0;32m----> 1\u001b[0;31m \u001b[0mtest_ds\u001b[0m \u001b[0;34m=\u001b[0m \u001b[0mmv\u001b[0m\u001b[0;34m.\u001b[0m\u001b[0mniml\u001b[0m\u001b[0;34m.\u001b[0m\u001b[0mread\u001b[0m\u001b[0;34m(\u001b[0m\u001b[0;34m'/Volumes/life-encoding/scripts/tikreg-pca/sample_data/corrcoef_sub-rid000024_model-visual_align-ws_feature-actions_foldshifted-4_hemi_lh.niml.dset'\u001b[0m\u001b[0;34m)\u001b[0m\u001b[0;34m\u001b[0m\u001b[0;34m\u001b[0m\u001b[0m\n\u001b[0m",
      "\u001b[0;31mNameError\u001b[0m: name 'mv' is not defined"
     ]
    }
   ],
   "source": [
    "test_ds = mv.niml.read('/Volumes/life-encoding/scripts/tikreg-pca/sample_data/corrcoef_sub-rid000024_model-visual_align-ws_feature-actions_foldshifted-4_hemi_lh.niml.dset')\n"
   ]
  },
  {
   "cell_type": "code",
   "execution_count": 6,
   "metadata": {},
   "outputs": [
    {
     "ename": "FileNotFoundError",
     "evalue": "[Errno 2] No such file or directory: 'corrcoef_sub-rid000024_model-visual_align-ws_feature-actions_foldshifted-4_hemi-lh_range-620-639.json'",
     "output_type": "error",
     "traceback": [
      "\u001b[0;31m---------------------------------------------------------------------------\u001b[0m",
      "\u001b[0;31mFileNotFoundError\u001b[0m                         Traceback (most recent call last)",
      "\u001b[0;32m<ipython-input-6-c404a16abe1a>\u001b[0m in \u001b[0;36m<module>\u001b[0;34m\u001b[0m\n\u001b[0;32m----> 1\u001b[0;31m \u001b[0;32mwith\u001b[0m \u001b[0mopen\u001b[0m\u001b[0;34m(\u001b[0m\u001b[0mfilename\u001b[0m\u001b[0;34m)\u001b[0m \u001b[0;32mas\u001b[0m \u001b[0mf\u001b[0m\u001b[0;34m:\u001b[0m\u001b[0;34m\u001b[0m\u001b[0;34m\u001b[0m\u001b[0m\n\u001b[0m\u001b[1;32m      2\u001b[0m     \u001b[0mcorr_x1\u001b[0m \u001b[0;34m=\u001b[0m \u001b[0mjson\u001b[0m\u001b[0;34m.\u001b[0m\u001b[0mload\u001b[0m\u001b[0;34m(\u001b[0m\u001b[0mf\u001b[0m\u001b[0;34m)\u001b[0m\u001b[0;34m\u001b[0m\u001b[0;34m\u001b[0m\u001b[0m\n",
      "\u001b[0;31mFileNotFoundError\u001b[0m: [Errno 2] No such file or directory: 'corrcoef_sub-rid000024_model-visual_align-ws_feature-actions_foldshifted-4_hemi-lh_range-620-639.json'"
     ]
    }
   ],
   "source": [
    "from nilearn.plotting import plot_surf\n",
    "main_dir = '/Users/h/suma-fsaverage6'\n",
    "fsaverage_gii_L = os.path.join(main_dir , 'lh.inf_50.gii')\n",
    "fsaverage_gii_R = os.path.join(main_dir , 'rh.inf_50.gii')\n",
    "# fsaverage_inflated_L = os.path.join(main_dir , 'fs_templates', 'lh.inflated.gii')\n",
    "# fsaverage_inflated_R = os.path.join(main_dir , 'fs_templates', 'rh.inflated.gii')\n",
    "\n",
    "figure, axes = plt.subplots(3,2,subplot_kw={'projection': '3d'},figsize = (12,20))\n",
    "\n",
    "# plot_surf(fsaverage_gii,np.mean(group_ds,axis = 0),colorbar = True)\n",
    "plot_surf(fsaverage_inflated_L,mean_cltax_behtask_L, \n",
    "          title='Taxonomy classification \\n behavior attention task\\n left hemi', \n",
    "          hemi='left', view = 'lateral', vmin=.20, vmax=.35, cmap = 'inferno',axes=axes[0][0])\n",
    "plot_surf(fsaverage_inflated_R,mean_cltax_behtask_R,  colorbar = True, \n",
    "          title='Taxonomy classification \\n behavior attention task\\n right hemi', \n",
    "          hemi='right', view = 'lateral', vmin=.20, vmax=.35, cmap = 'inferno',axes=axes[0][1])\n",
    "plot_surf(fsaverage_inflated_L,mean_cltax_taxtask_L, \n",
    "          title='Taxonomy classification \\n taxonomy attention task\\n left hemi', \n",
    "          hemi='left', view = 'lateral', vmin=.20, vmax=.35, cmap = 'inferno',axes=axes[1][0])\n",
    "plot_surf(fsaverage_inflated_R,mean_cltax_taxtask_R,  colorbar = True, \n",
    "          title='Taxonomy classification \\n taxonomy attention task\\n right hemi', \n",
    "          hemi='right', view = 'lateral', vmin=.20, vmax=.35, cmap = 'inferno',axes=axes[1][1])\n",
    "plot_surf(fsaverage_inflated_L,mean_cltax_taxtask_L,\n",
    "          title='Taxonomy classification \\n taxonomy attention task\\n left hemi', \n",
    "          hemi='left', view = 'ventral', vmin=.20, vmax=.35, cmap = 'inferno',axes=axes[2][0])\n",
    "plot_surf(fsaverage_inflated_R,mean_cltax_taxtask_R,  colorbar = True, \n",
    "          title='Taxonomy classification \\n taxonomy attention task\\n right hemi', \n",
    "          hemi='right', view = 'ventral', vmin=.20, vmax=.35, cmap = 'inferno',axes=axes[2][1])\n",
    "plt.show()"
   ]
  },
  {
   "cell_type": "code",
   "execution_count": null,
   "metadata": {},
   "outputs": [],
   "source": [
    "mv.niml.write(os.path.join(mount_dir, 'corrcoef_{0}_model-{1}_align-{2}_feature-{3}_foldshifted-{4}_hemi_{5}.niml.dset'.format(\n",
    "    test_p, model, align, stimfile1, fold_shifted, hemi)), out1[None, :])"
   ]
  },
  {
   "cell_type": "markdown",
   "metadata": {},
   "source": [
    "# plot json for meeting 0525"
   ]
  },
  {
   "cell_type": "markdown",
   "metadata": {},
   "source": [
    "* Sam selected a number of nodes. plot the hyperparameters for that given node"
   ]
  },
  {
   "cell_type": "markdown",
   "metadata": {},
   "source": [
    "https://stackoverflow.com/questions/66016045/python-dataframe-plot-a-bar-chart-for-data-frame-with-grouped-by-columns-at-l/66121322#66121322\n",
    "\n",
    "https://docs.bokeh.org/en/latest/docs/user_guide/categorical.html"
   ]
  },
  {
   "cell_type": "raw",
   "metadata": {},
   "source": [
    "vertices = {'early visual cortex': [**21569**, **27912**, **35942**, **28601**],\n",
    "            'early auditory cortex': [**38080**, **9280**, **12636**, **20646**],\n",
    "            'lateral occipitotemporal cortex': [**38574, **38669**, **27613, **15174],\n",
    "            'ventral temporal cortex': [**15751**, **34345, **2753**, 40419],\n",
    "            'lateral parietal cortex': [**30480, 19519, 26504, **36410**],\n",
    "            'premotor cortex': [**32743**, **30278**, **14970**, 3668]}"
   ]
  },
  {
   "cell_type": "code",
   "execution_count": 2,
   "metadata": {},
   "outputs": [],
   "source": [
    "vertices = {'early visual cortex': [21569, 27912, 35942, 28601],\n",
    "            'early auditory cortex': [38080, 9280, 12636, 20646],\n",
    "            'lateral occipitotemporal cortex': [38574, 38669, 27613, 15174],\n",
    "            'ventral temporal cortex': [15751, 34345, 2753, 40419],\n",
    "            'lateral parietal cortex': [30480, 19519, 26504, 36410],\n",
    "            'premotor cortex': [32743, 30278, 14970, 3668]}"
   ]
  },
  {
   "cell_type": "code",
   "execution_count": 3,
   "metadata": {},
   "outputs": [
    {
     "data": {
      "text/html": [
       "<div>\n",
       "<style scoped>\n",
       "    .dataframe tbody tr th:only-of-type {\n",
       "        vertical-align: middle;\n",
       "    }\n",
       "\n",
       "    .dataframe tbody tr th {\n",
       "        vertical-align: top;\n",
       "    }\n",
       "\n",
       "    .dataframe thead th {\n",
       "        text-align: right;\n",
       "    }\n",
       "</style>\n",
       "<table border=\"1\" class=\"dataframe\">\n",
       "  <thead>\n",
       "    <tr style=\"text-align: right;\">\n",
       "      <th></th>\n",
       "      <th>regions</th>\n",
       "      <th>node</th>\n",
       "    </tr>\n",
       "  </thead>\n",
       "  <tbody>\n",
       "    <tr>\n",
       "      <th>0</th>\n",
       "      <td>early visual cortex</td>\n",
       "      <td>21569</td>\n",
       "    </tr>\n",
       "    <tr>\n",
       "      <th>1</th>\n",
       "      <td>early visual cortex</td>\n",
       "      <td>27912</td>\n",
       "    </tr>\n",
       "    <tr>\n",
       "      <th>2</th>\n",
       "      <td>early visual cortex</td>\n",
       "      <td>35942</td>\n",
       "    </tr>\n",
       "    <tr>\n",
       "      <th>3</th>\n",
       "      <td>early visual cortex</td>\n",
       "      <td>28601</td>\n",
       "    </tr>\n",
       "    <tr>\n",
       "      <th>4</th>\n",
       "      <td>early auditory cortex</td>\n",
       "      <td>38080</td>\n",
       "    </tr>\n",
       "    <tr>\n",
       "      <th>5</th>\n",
       "      <td>early auditory cortex</td>\n",
       "      <td>9280</td>\n",
       "    </tr>\n",
       "    <tr>\n",
       "      <th>6</th>\n",
       "      <td>early auditory cortex</td>\n",
       "      <td>12636</td>\n",
       "    </tr>\n",
       "    <tr>\n",
       "      <th>7</th>\n",
       "      <td>early auditory cortex</td>\n",
       "      <td>20646</td>\n",
       "    </tr>\n",
       "    <tr>\n",
       "      <th>8</th>\n",
       "      <td>lateral occipitotemporal cortex</td>\n",
       "      <td>38574</td>\n",
       "    </tr>\n",
       "    <tr>\n",
       "      <th>9</th>\n",
       "      <td>lateral occipitotemporal cortex</td>\n",
       "      <td>38669</td>\n",
       "    </tr>\n",
       "    <tr>\n",
       "      <th>10</th>\n",
       "      <td>lateral occipitotemporal cortex</td>\n",
       "      <td>27613</td>\n",
       "    </tr>\n",
       "    <tr>\n",
       "      <th>11</th>\n",
       "      <td>lateral occipitotemporal cortex</td>\n",
       "      <td>15174</td>\n",
       "    </tr>\n",
       "    <tr>\n",
       "      <th>12</th>\n",
       "      <td>ventral temporal cortex</td>\n",
       "      <td>15751</td>\n",
       "    </tr>\n",
       "    <tr>\n",
       "      <th>13</th>\n",
       "      <td>ventral temporal cortex</td>\n",
       "      <td>34345</td>\n",
       "    </tr>\n",
       "    <tr>\n",
       "      <th>14</th>\n",
       "      <td>ventral temporal cortex</td>\n",
       "      <td>2753</td>\n",
       "    </tr>\n",
       "    <tr>\n",
       "      <th>15</th>\n",
       "      <td>ventral temporal cortex</td>\n",
       "      <td>40419</td>\n",
       "    </tr>\n",
       "    <tr>\n",
       "      <th>16</th>\n",
       "      <td>lateral parietal cortex</td>\n",
       "      <td>30480</td>\n",
       "    </tr>\n",
       "    <tr>\n",
       "      <th>17</th>\n",
       "      <td>lateral parietal cortex</td>\n",
       "      <td>19519</td>\n",
       "    </tr>\n",
       "    <tr>\n",
       "      <th>18</th>\n",
       "      <td>lateral parietal cortex</td>\n",
       "      <td>26504</td>\n",
       "    </tr>\n",
       "    <tr>\n",
       "      <th>19</th>\n",
       "      <td>lateral parietal cortex</td>\n",
       "      <td>36410</td>\n",
       "    </tr>\n",
       "    <tr>\n",
       "      <th>20</th>\n",
       "      <td>premotor cortex</td>\n",
       "      <td>32743</td>\n",
       "    </tr>\n",
       "    <tr>\n",
       "      <th>21</th>\n",
       "      <td>premotor cortex</td>\n",
       "      <td>30278</td>\n",
       "    </tr>\n",
       "    <tr>\n",
       "      <th>22</th>\n",
       "      <td>premotor cortex</td>\n",
       "      <td>14970</td>\n",
       "    </tr>\n",
       "    <tr>\n",
       "      <th>23</th>\n",
       "      <td>premotor cortex</td>\n",
       "      <td>3668</td>\n",
       "    </tr>\n",
       "  </tbody>\n",
       "</table>\n",
       "</div>"
      ],
      "text/plain": [
       "                            regions   node\n",
       "0               early visual cortex  21569\n",
       "1               early visual cortex  27912\n",
       "2               early visual cortex  35942\n",
       "3               early visual cortex  28601\n",
       "4             early auditory cortex  38080\n",
       "5             early auditory cortex   9280\n",
       "6             early auditory cortex  12636\n",
       "7             early auditory cortex  20646\n",
       "8   lateral occipitotemporal cortex  38574\n",
       "9   lateral occipitotemporal cortex  38669\n",
       "10  lateral occipitotemporal cortex  27613\n",
       "11  lateral occipitotemporal cortex  15174\n",
       "12          ventral temporal cortex  15751\n",
       "13          ventral temporal cortex  34345\n",
       "14          ventral temporal cortex   2753\n",
       "15          ventral temporal cortex  40419\n",
       "16          lateral parietal cortex  30480\n",
       "17          lateral parietal cortex  19519\n",
       "18          lateral parietal cortex  26504\n",
       "19          lateral parietal cortex  36410\n",
       "20                  premotor cortex  32743\n",
       "21                  premotor cortex  30278\n",
       "22                  premotor cortex  14970\n",
       "23                  premotor cortex   3668"
      ]
     },
     "execution_count": 3,
     "metadata": {},
     "output_type": "execute_result"
    }
   ],
   "source": [
    "pd.DataFrame.from_dict(vertices)\n",
    "df = pd.DataFrame(vertices.items(),columns = ['regions','node'])\n",
    "lst_col = 'node'\n",
    "\n",
    "roi = pd.DataFrame({\n",
    "      col:np.repeat(df[col].values, df[lst_col].str.len())\n",
    "      for col in df.columns.drop(lst_col)}\n",
    "    ).assign(**{lst_col:np.concatenate(df[lst_col].values)})[df.columns]\n",
    "roi"
   ]
  },
  {
   "cell_type": "markdown",
   "metadata": {},
   "source": [
    "## early visual cortex"
   ]
  },
  {
   "cell_type": "code",
   "execution_count": 6,
   "metadata": {},
   "outputs": [],
   "source": [
    "# vertices = {'early visual cortex': [**21569**, **27912**, **35942**, **28601**],\n",
    "#             'early auditory cortex': [**38080**, **9280**, **12636**, **20646**],\n",
    "#             'lateral occipitotemporal cortex': [**38574, **38669**, **27613, **15174],\n",
    "#             'ventral temporal cortex': [15751 **34345, **2753**, 40419],\n",
    "#             'lateral parietal cortex': [**30480, 19519, 26504, **36410**],\n",
    "#             'premotor cortex': [**32743**, **30278**, **14970**, 3668]}\n",
    "\n",
    "\n",
    "hyper_json = [[21569.0, 1.0],[27912.0, 1.0],  [35942.0, 1.0], [28601.0, 1.0],\n",
    "             [38080.0, 1.0], [9280.0, 1.0], [12636.0, 1.0], [20646.0, 3.3598182862837818],\n",
    "             [38574.0, 1.0], [38669.0, 428.1332398719391], [27613.0, 428.1332398719391], [15174.0, 1.0],\n",
    "             [15171.0, 1.0], [34345.0, 1.0], [2753.0, 4832.930238571752],\n",
    "             [30480.0, 1.8329807108324359],[36410.0, 29763.51441631319],\n",
    "             [32743.0, 1.0],[30278.0, 1.0],[14970.0, 1.8329807108324359]]\n",
    "\n",
    "agents_json = [[21569.0, 0.04342571562345652], [27912.0, -0.13320569130844742],[35942.0, -0.06465313399742195],[28601.0, -0.05834370685620155],\n",
    "              [38080.0, 0.057595752269265936], [9280.0, 0.015020512432738616],[12636.0, 0.044528992789470034],[20646.0, 0.08480455525147104],\n",
    "              [38574.0, -0.0012994965002091768],[38669.0, 0.04401245075988246],[27613.0, 0.09869693556191066],[15174.0, -0.030218129134447488],\n",
    "             [34345.0, -0.025770327612107936],[2753.0, 0.1512806898621991],\n",
    "               [30480.0, -0.009429304489954354],[36410.0, 0.1449140533883221],\n",
    "               [32743.0, -0.0676294557444341],[30278.0, 0.01776346411596614],[14970.0, -0.03156823273231511]]\n",
    "\n",
    "bg_json = [[21569.0, 0.05873300924851848], [27912.0, 0.008628465840552156],[35942.0, 0.08776765642952992], [28601.0, 0.06264416825510537],\n",
    "          [38080.0, -0.016602546582315924],[9280.0, -0.08737000963593376],[12636.0, -0.025019014716758686],[20646.0, -0.04072216645198509],\n",
    "          [38574.0, 0.14813894613842063],[38669.0, -0.04314050879634135],[27613.0, -0.02029906338634783],[15174.0, -0.017195527887777846],\n",
    "          [34345.0, -0.07885578657933018],[2753.0, -0.0034318426991847323],\n",
    "               [30480.0, -0.028182198636710988],[36410.0, -0.015050925017205211],\n",
    "               [32743.0, -0.04245502158149861],[30278.0, -0.05511775355855007],[14970.0, -0.12310972688746255]]\n",
    "actions_json = [[21569.0, 0.0336940325646155], [27912.0, 0.022356028318831427],[35942.0, -0.0528631307287752], [28601.0, -0.04033288779170042],\n",
    "               [38080.0, 0.004358724958268423],[9280.0, 0.019448179976400644],[12636.0, 0.01988664911245128],[20646.0, -0.08561387983847069],\n",
    "               [38574.0, -0.05653286731680951],[38669.0, -0.018090916852150377],[27613.0, 0.04912544289175997],[15174.0, -0.1281117638661347],\n",
    "               [34345.0, 0.04352393624119258], [2753.0, -0.1236776073390186],\n",
    "                [30480.0, 0.039943395749458994], [36410.0, 0.13281962517620996],\n",
    "               [32743.0, 0.15563597779805344],[30278.0, 0.004348498646345359],[14970.0, -0.04721901328389317]]\n",
    "\n",
    "\n"
   ]
  },
  {
   "cell_type": "code",
   "execution_count": 7,
   "metadata": {},
   "outputs": [],
   "source": [
    "hyper_df = pd.DataFrame(hyper_json)\n",
    "agents_df = pd.DataFrame(agents_json)\n",
    "bg_df = pd.DataFrame(bg_json)\n",
    "actions_df = pd.DataFrame(actions_json)\n",
    "hyper_df.rename({0:'node', 1:'hyperparameter'}, axis = 'columns', inplace = True)\n",
    "agents_df.rename({0:'node', 1:'corr'}, axis = 'columns', inplace = True)\n",
    "bg_df.rename({0:'node', 1:'corr'}, axis = 'columns', inplace = True)\n",
    "actions_df.rename({0:'node', 1:'corr'}, axis = 'columns', inplace = True)"
   ]
  },
  {
   "cell_type": "code",
   "execution_count": 8,
   "metadata": {},
   "outputs": [],
   "source": [
    "agents_merged = agents_df.merge(hyper_df, on=[\"node\"])\n",
    "bg_merged = bg_df.merge(hyper_df, on=[\"node\"])\n",
    "actions_merged = actions_df.merge(hyper_df, on=[\"node\"])\n",
    "\n"
   ]
  },
  {
   "cell_type": "code",
   "execution_count": 53,
   "metadata": {},
   "outputs": [],
   "source": [
    "# select ONLY non-medial nodes\n",
    "hyper_roi = hyper_df.merge(roi, how='inner', on='node')\n",
    "agents_nonmedial = agents_merged.merge(roi, how='inner', on='node')\n",
    "bg_nonmedial = bg_merged.merge(roi, how='inner', on='node')\n",
    "actions_nonmedial = actions_merged.merge(roi, how='inner', on='node')\n"
   ]
  },
  {
   "cell_type": "code",
   "execution_count": 54,
   "metadata": {},
   "outputs": [
    {
     "data": {
      "text/html": [
       "<div>\n",
       "<style scoped>\n",
       "    .dataframe tbody tr th:only-of-type {\n",
       "        vertical-align: middle;\n",
       "    }\n",
       "\n",
       "    .dataframe tbody tr th {\n",
       "        vertical-align: top;\n",
       "    }\n",
       "\n",
       "    .dataframe thead th {\n",
       "        text-align: right;\n",
       "    }\n",
       "</style>\n",
       "<table border=\"1\" class=\"dataframe\">\n",
       "  <thead>\n",
       "    <tr style=\"text-align: right;\">\n",
       "      <th></th>\n",
       "      <th>node</th>\n",
       "      <th>hyperparameter</th>\n",
       "      <th>regions</th>\n",
       "    </tr>\n",
       "  </thead>\n",
       "  <tbody>\n",
       "    <tr>\n",
       "      <th>0</th>\n",
       "      <td>21569.0</td>\n",
       "      <td>1.0</td>\n",
       "      <td>early visual cortex</td>\n",
       "    </tr>\n",
       "    <tr>\n",
       "      <th>1</th>\n",
       "      <td>27912.0</td>\n",
       "      <td>1.0</td>\n",
       "      <td>early visual cortex</td>\n",
       "    </tr>\n",
       "    <tr>\n",
       "      <th>2</th>\n",
       "      <td>35942.0</td>\n",
       "      <td>1.0</td>\n",
       "      <td>early visual cortex</td>\n",
       "    </tr>\n",
       "    <tr>\n",
       "      <th>3</th>\n",
       "      <td>28601.0</td>\n",
       "      <td>1.0</td>\n",
       "      <td>early visual cortex</td>\n",
       "    </tr>\n",
       "    <tr>\n",
       "      <th>4</th>\n",
       "      <td>38080.0</td>\n",
       "      <td>1.0</td>\n",
       "      <td>early auditory cortex</td>\n",
       "    </tr>\n",
       "  </tbody>\n",
       "</table>\n",
       "</div>"
      ],
      "text/plain": [
       "      node  hyperparameter                regions\n",
       "0  21569.0             1.0    early visual cortex\n",
       "1  27912.0             1.0    early visual cortex\n",
       "2  35942.0             1.0    early visual cortex\n",
       "3  28601.0             1.0    early visual cortex\n",
       "4  38080.0             1.0  early auditory cortex"
      ]
     },
     "execution_count": 54,
     "metadata": {},
     "output_type": "execute_result"
    }
   ],
   "source": [
    "#hyper_roi.set_index([ 'regions', 'node'], inplace=True)\n",
    "\n",
    "hyper_roi.head()"
   ]
  },
  {
   "cell_type": "markdown",
   "metadata": {},
   "source": [
    "## plot 1) hyper parameter value per node"
   ]
  },
  {
   "cell_type": "code",
   "execution_count": 56,
   "metadata": {},
   "outputs": [
    {
     "data": {
      "text/html": [
       "<div>\n",
       "<style scoped>\n",
       "    .dataframe tbody tr th:only-of-type {\n",
       "        vertical-align: middle;\n",
       "    }\n",
       "\n",
       "    .dataframe tbody tr th {\n",
       "        vertical-align: top;\n",
       "    }\n",
       "\n",
       "    .dataframe thead th {\n",
       "        text-align: right;\n",
       "    }\n",
       "</style>\n",
       "<table border=\"1\" class=\"dataframe\">\n",
       "  <thead>\n",
       "    <tr style=\"text-align: right;\">\n",
       "      <th></th>\n",
       "      <th></th>\n",
       "      <th>hyperparameter</th>\n",
       "    </tr>\n",
       "    <tr>\n",
       "      <th>regions</th>\n",
       "      <th>node</th>\n",
       "      <th></th>\n",
       "    </tr>\n",
       "  </thead>\n",
       "  <tbody>\n",
       "    <tr>\n",
       "      <th rowspan=\"4\" valign=\"top\">early visual cortex</th>\n",
       "      <th>21569.0</th>\n",
       "      <td>1.000000</td>\n",
       "    </tr>\n",
       "    <tr>\n",
       "      <th>27912.0</th>\n",
       "      <td>1.000000</td>\n",
       "    </tr>\n",
       "    <tr>\n",
       "      <th>35942.0</th>\n",
       "      <td>1.000000</td>\n",
       "    </tr>\n",
       "    <tr>\n",
       "      <th>28601.0</th>\n",
       "      <td>1.000000</td>\n",
       "    </tr>\n",
       "    <tr>\n",
       "      <th rowspan=\"4\" valign=\"top\">early auditory cortex</th>\n",
       "      <th>38080.0</th>\n",
       "      <td>1.000000</td>\n",
       "    </tr>\n",
       "    <tr>\n",
       "      <th>9280.0</th>\n",
       "      <td>1.000000</td>\n",
       "    </tr>\n",
       "    <tr>\n",
       "      <th>12636.0</th>\n",
       "      <td>1.000000</td>\n",
       "    </tr>\n",
       "    <tr>\n",
       "      <th>20646.0</th>\n",
       "      <td>3.359818</td>\n",
       "    </tr>\n",
       "    <tr>\n",
       "      <th rowspan=\"4\" valign=\"top\">lateral occipitotemporal cortex</th>\n",
       "      <th>38574.0</th>\n",
       "      <td>1.000000</td>\n",
       "    </tr>\n",
       "    <tr>\n",
       "      <th>38669.0</th>\n",
       "      <td>428.133240</td>\n",
       "    </tr>\n",
       "    <tr>\n",
       "      <th>27613.0</th>\n",
       "      <td>428.133240</td>\n",
       "    </tr>\n",
       "    <tr>\n",
       "      <th>15174.0</th>\n",
       "      <td>1.000000</td>\n",
       "    </tr>\n",
       "    <tr>\n",
       "      <th rowspan=\"2\" valign=\"top\">ventral temporal cortex</th>\n",
       "      <th>34345.0</th>\n",
       "      <td>1.000000</td>\n",
       "    </tr>\n",
       "    <tr>\n",
       "      <th>2753.0</th>\n",
       "      <td>4832.930239</td>\n",
       "    </tr>\n",
       "    <tr>\n",
       "      <th rowspan=\"2\" valign=\"top\">lateral parietal cortex</th>\n",
       "      <th>30480.0</th>\n",
       "      <td>1.832981</td>\n",
       "    </tr>\n",
       "    <tr>\n",
       "      <th>36410.0</th>\n",
       "      <td>29763.514416</td>\n",
       "    </tr>\n",
       "    <tr>\n",
       "      <th rowspan=\"3\" valign=\"top\">premotor cortex</th>\n",
       "      <th>32743.0</th>\n",
       "      <td>1.000000</td>\n",
       "    </tr>\n",
       "    <tr>\n",
       "      <th>30278.0</th>\n",
       "      <td>1.000000</td>\n",
       "    </tr>\n",
       "    <tr>\n",
       "      <th>14970.0</th>\n",
       "      <td>1.832981</td>\n",
       "    </tr>\n",
       "  </tbody>\n",
       "</table>\n",
       "</div>"
      ],
      "text/plain": [
       "                                         hyperparameter\n",
       "regions                         node                   \n",
       "early visual cortex             21569.0        1.000000\n",
       "                                27912.0        1.000000\n",
       "                                35942.0        1.000000\n",
       "                                28601.0        1.000000\n",
       "early auditory cortex           38080.0        1.000000\n",
       "                                9280.0         1.000000\n",
       "                                12636.0        1.000000\n",
       "                                20646.0        3.359818\n",
       "lateral occipitotemporal cortex 38574.0        1.000000\n",
       "                                38669.0      428.133240\n",
       "                                27613.0      428.133240\n",
       "                                15174.0        1.000000\n",
       "ventral temporal cortex         34345.0        1.000000\n",
       "                                2753.0      4832.930239\n",
       "lateral parietal cortex         30480.0        1.832981\n",
       "                                36410.0    29763.514416\n",
       "premotor cortex                 32743.0        1.000000\n",
       "                                30278.0        1.000000\n",
       "                                14970.0        1.832981"
      ]
     },
     "execution_count": 56,
     "metadata": {},
     "output_type": "execute_result"
    }
   ],
   "source": [
    "df"
   ]
  },
  {
   "cell_type": "code",
   "execution_count": 60,
   "metadata": {},
   "outputs": [
    {
     "ename": "NameError",
     "evalue": "name 'zone' is not defined",
     "output_type": "error",
     "traceback": [
      "\u001b[0;31m---------------------------------------------------------------------------\u001b[0m",
      "\u001b[0;31mNameError\u001b[0m                                 Traceback (most recent call last)",
      "\u001b[0;32m<ipython-input-60-f2cc99ad7f59>\u001b[0m in \u001b[0;36m<module>\u001b[0;34m\u001b[0m\n\u001b[0;32m----> 1\u001b[0;31m \u001b[0mzone\u001b[0m\u001b[0;34m\u001b[0m\u001b[0;34m\u001b[0m\u001b[0m\n\u001b[0m",
      "\u001b[0;31mNameError\u001b[0m: name 'zone' is not defined"
     ]
    }
   ],
   "source": [
    "zone"
   ]
  },
  {
   "cell_type": "code",
   "execution_count": 61,
   "metadata": {},
   "outputs": [
    {
     "data": {
      "text/plain": [
       "Float64Index([ 2753.0,  9280.0, 12636.0, 14970.0, 15174.0, 20646.0, 21569.0,\n",
       "              27613.0, 27912.0, 28601.0, 30278.0, 30480.0, 32743.0, 34345.0,\n",
       "              35942.0, 36410.0, 38080.0, 38574.0, 38669.0],\n",
       "             dtype='float64', name='node')"
      ]
     },
     "execution_count": 61,
     "metadata": {},
     "output_type": "execute_result"
    }
   ],
   "source": [
    "zones"
   ]
  },
  {
   "cell_type": "code",
   "execution_count": 59,
   "metadata": {},
   "outputs": [
    {
     "ename": "NameError",
     "evalue": "name 'zone' is not defined",
     "output_type": "error",
     "traceback": [
      "\u001b[0;31m---------------------------------------------------------------------------\u001b[0m",
      "\u001b[0;31mNameError\u001b[0m                                 Traceback (most recent call last)",
      "\u001b[0;32m<ipython-input-59-2d4cf20c349a>\u001b[0m in \u001b[0;36m<module>\u001b[0;34m\u001b[0m\n\u001b[0;32m----> 1\u001b[0;31m \u001b[0mprint\u001b[0m\u001b[0;34m(\u001b[0m\u001b[0mzone\u001b[0m\u001b[0;34m)\u001b[0m\u001b[0;34m\u001b[0m\u001b[0;34m\u001b[0m\u001b[0m\n\u001b[0m\u001b[1;32m      2\u001b[0m \u001b[0mplots_width_ratios\u001b[0m \u001b[0;34m=\u001b[0m \u001b[0;34m[\u001b[0m\u001b[0mdf\u001b[0m\u001b[0;34m.\u001b[0m\u001b[0mxs\u001b[0m\u001b[0;34m(\u001b[0m\u001b[0mzone\u001b[0m\u001b[0;34m)\u001b[0m\u001b[0;34m.\u001b[0m\u001b[0mindex\u001b[0m\u001b[0;34m.\u001b[0m\u001b[0msize\u001b[0m \u001b[0;32mfor\u001b[0m \u001b[0mzone\u001b[0m \u001b[0;32min\u001b[0m \u001b[0mzones\u001b[0m\u001b[0;34m]\u001b[0m\u001b[0;34m\u001b[0m\u001b[0;34m\u001b[0m\u001b[0m\n",
      "\u001b[0;31mNameError\u001b[0m: name 'zone' is not defined"
     ]
    }
   ],
   "source": [
    "print(zone)\n",
    "plots_width_ratios = [df.xs(zone).index.size for zone in zones]\n"
   ]
  },
  {
   "cell_type": "code",
   "execution_count": 86,
   "metadata": {},
   "outputs": [],
   "source": [
    "    xlabels = [name.replace(' ', '\\n') if len(name) > 10 else name\n",
    "                  for name in zones]"
   ]
  },
  {
   "cell_type": "code",
   "execution_count": 87,
   "metadata": {},
   "outputs": [
    {
     "data": {
      "text/plain": [
       "['early\\nauditory\\ncortex',\n",
       " 'early\\nvisual\\ncortex',\n",
       " 'lateral\\noccipitotemporal\\ncortex',\n",
       " 'lateral\\nparietal\\ncortex',\n",
       " 'premotor\\ncortex',\n",
       " 'ventral\\ntemporal\\ncortex']"
      ]
     },
     "execution_count": 87,
     "metadata": {},
     "output_type": "execute_result"
    }
   ],
   "source": [
    "xlabels"
   ]
  },
  {
   "cell_type": "code",
   "execution_count": 100,
   "metadata": {},
   "outputs": [
    {
     "data": {
      "image/png": "[encoded data removed]",
      "text/plain": [
       "<Figure size 720x288 with 6 Axes>"
      ]
     },
     "metadata": {
      "needs_background": "light"
     },
     "output_type": "display_data"
    }
   ],
   "source": [
    "df = hyper_roi\n",
    "df = df.set_index(['regions', 'node'])\n",
    "# Create figure with a subplot for each factory zone with a relative width\n",
    "# proportionate to the number of factories\n",
    "zones = df.index.levels[0]\n",
    "nplots = zones.size\n",
    "plots_width_ratios = [df.xs(zone).index.size*2 for zone in zones]\n",
    "fig, axes = plt.subplots(nrows=1, ncols=nplots, sharey=True, figsize=(10, 4),\n",
    "                         gridspec_kw = dict(width_ratios=plots_width_ratios, wspace=0))\n",
    "colors = ['#10EDF5', '#28BCE0', '#556CBC', '#7343A9', '#9B0F8C', '#B8007F']\n",
    "# Loop through array of axes to create grouped bar chart for each factory zone\n",
    "alpha = 0.3 # used for grid lines, bottom spine and separation lines between zones\n",
    "for zone, ax, clr in zip(zones, axes, colors):\n",
    "    # Create bar chart with grid lines and no spines except bottom one\n",
    "    df.xs(zone).plot.bar(ax=ax, legend=None, zorder=2, logy = True, color = clr)\n",
    "    ax.grid(axis='y', zorder=1, color='black', alpha=alpha)\n",
    "#     for spine in ['top', 'left', 'right']:\n",
    "#         ax.spines[spine].set_visible(False)\n",
    "    ax.spines['bottom'].set_alpha(alpha)\n",
    "    \n",
    "    # Set and place x labels for factory zones\n",
    "    xlabels = [name.replace(' ', '\\n') if len(name) > 10 else name\n",
    "                  for name in zones]\n",
    "#     if len(zone) > 10:\n",
    "#         zone =  zone.replace(' ', '\\n')\n",
    "#     else:\n",
    "#         zone\n",
    "    xlabels = [zone.replace(' ', '\\n') if len(zone) > 10 else zone][0]  \n",
    "    ax.set_xlabel(xlabels, fontsize = 12)\n",
    "#     ax.set_xlabel(xlabel)\n",
    "    ax.xaxis.set_label_coords(x=0.5, y=-0.2)\n",
    "    \n",
    "    # Format major tick labels for factory names: note that because this figure is\n",
    "    # only about 10 inches wide, I choose to rewrite the long names on two lines.\n",
    "#     ticklabels = [name.replace(' ', '\\n') if len(name) > 10 else name\n",
    "#                   for name in df.xs(zone).index]\n",
    "    ticklabels = df.xs(zone).index\n",
    "    ax.set_xticklabels(ticklabels, rotation=45, ha='center',fontsize=8)\n",
    "    ax.tick_params(axis='both', length=0, pad=7)\n",
    "    \n",
    "    # Set and format minor tick marks for separation lines between zones: note\n",
    "    # that except for the first subplot, only the right tick mark is drawn to avoid\n",
    "    # duplicate overlapping lines so that when an alpha different from 1 is chosen\n",
    "    # (like in this example) all the lines look the same\n",
    "    if ax.is_first_col():\n",
    "        ax.set_xticks([*ax.get_xlim()], minor=True)\n",
    "    else:\n",
    "        ax.set_xticks([ax.get_xlim()[1]], minor=True)\n",
    "#     ax.tick_params(which='minor', length=55, width=0.8, color=[0, 0, 0, alpha])\n",
    "\n",
    "# Add legend using the labels and handles from the last subplot\n",
    "#fig.legend(*ax.get_legend_handles_labels(), frameon=False, loc=(0.08, 0.77))\n",
    "\n",
    "fig.suptitle('hyperparameter per region', y=1.02, size=14);"
   ]
  },
  {
   "cell_type": "code",
   "execution_count": 20,
   "metadata": {},
   "outputs": [
    {
     "data": {
      "image/png": "[encoded data removed]",
      "text/plain": [
       "<Figure size 432x288 with 1 Axes>"
      ]
     },
     "metadata": {
      "needs_background": "light"
     },
     "output_type": "display_data"
    }
   ],
   "source": [
    "# b = actions_nonmedial.plot.bar(x='node', y='hyperparameter', rot=45, )\n",
    "\n",
    "b = hyper_df.plot.bar(x='node', y='hyperparameter', rot=45, )\n",
    "b.set_yscale('log')\n"
   ]
  },
  {
   "cell_type": "markdown",
   "metadata": {},
   "source": [
    "## plot 2) correlation coefficient per node"
   ]
  },
  {
   "cell_type": "code",
   "execution_count": 124,
   "metadata": {},
   "outputs": [],
   "source": [
    "def plot_corr_per_region(dataframe, title):\n",
    "#     df = actions_nonmedial\n",
    "    dataframe = dataframe[['node', 'corr', 'regions']]\n",
    "#     fig, axes = plt.subplots() \n",
    "    new_df = dataframe.set_index(['regions', 'node'])\n",
    "    # Create figure with a subplot for each factory zone with a relative width\n",
    "    # proportionate to the number of factories\n",
    "    zones = new_df.index.levels[0]\n",
    "    nplots = zones.size\n",
    "    plots_width_ratios = [new_df.xs(zone).index.size*2 for zone in zones]\n",
    "    fig, axes = plt.subplots(nrows=1, ncols=nplots, sharey=True, figsize=(10, 4),\n",
    "                             gridspec_kw = dict(width_ratios=plots_width_ratios, wspace=0))\n",
    "    colors = ['#10EDF5', '#28BCE0', '#556CBC', '#7343A9', '#9B0F8C', '#B8007F']\n",
    "    # Loop through array of axes to create grouped bar chart for each factory zone\n",
    "    alpha = 0.3 # used for grid lines, bottom spine and separation lines between zones\n",
    "    for zone, ax, clr in zip(zones, axes, colors):\n",
    "        # Create bar chart with grid lines and no spines except bottom one\n",
    "        new_df.xs(zone).plot.bar(ax=ax, legend=None, zorder=2,  color = clr)\n",
    "        ax.grid(axis='y', zorder=1, color='black', alpha=alpha)\n",
    "\n",
    "        ax.spines['bottom'].set_alpha(alpha)\n",
    "\n",
    "        # Set and place x labels for factory zones\n",
    "#         xlabels = [name.replace(' ', '\\n') if len(name) > 10 else name\n",
    "#                       for name in zones]\n",
    "\n",
    "        xlabels = [zone.replace(' ', '\\n') if len(zone) > 10 else zone][0]  \n",
    "        ax.set_xlabel(xlabels, fontsize = 12)\n",
    "        ax.set_ylabel('correlation coefficient', fontsize = 12)\n",
    "    #     ax.set_xlabel(xlabel)\n",
    "        ax.xaxis.set_label_coords(x=0.5, y=-0.2)\n",
    "\n",
    "        ticklabels = new_df.xs(zone).index\n",
    "        ax.set_xticklabels(ticklabels, rotation=45, ha='center',fontsize=8)\n",
    "        ax.tick_params(axis='both', length=0, pad=7)\n",
    "\n",
    "\n",
    "        if ax.is_first_col():\n",
    "            ax.set_xticks([*ax.get_xlim()], minor=True)\n",
    "        else:\n",
    "            ax.set_xticks([ax.get_xlim()[1]], minor=True)\n",
    "    #     ax.tick_params(which='minor', length=55, width=0.8, color=[0, 0, 0, alpha])\n",
    "\n",
    "    # Add legend using the labels and handles from the last subplot\n",
    "    #fig.legend(*ax.get_legend_handles_labels(), frameon=False, loc=(0.08, 0.77))\n",
    "\n",
    "    fig.suptitle(title, y=1.02, size=14);\n",
    "    plt.show()"
   ]
  },
  {
   "cell_type": "code",
   "execution_count": 126,
   "metadata": {},
   "outputs": [
    {
     "data": {
      "image/png": "[encoded data removed]",
      "text/plain": [
       "<Figure size 720x288 with 6 Axes>"
      ]
     },
     "metadata": {
      "needs_background": "light"
     },
     "output_type": "display_data"
    },
    {
     "data": {
      "image/png": "[encoded data removed]",
      "text/plain": [
       "<Figure size 720x288 with 6 Axes>"
      ]
     },
     "metadata": {
      "needs_background": "light"
     },
     "output_type": "display_data"
    },
    {
     "data": {
      "image/png": "[encoded data removed]",
      "text/plain": [
       "<Figure size 720x288 with 6 Axes>"
      ]
     },
     "metadata": {
      "needs_background": "light"
     },
     "output_type": "display_data"
    }
   ],
   "source": [
    "ax = plot_corr_per_region(actions_nonmedial, 'ACTION - correlation per region')\n",
    "ax = plot_corr_per_region(bg_nonmedial, 'BACKGROUND - correlation per region')\n",
    "ax = plot_corr_per_region(agents_nonmedial, 'AGENTS - correlation per region')"
   ]
  },
  {
   "cell_type": "markdown",
   "metadata": {},
   "source": [
    "## plot 3) stacked"
   ]
  },
  {
   "cell_type": "code",
   "execution_count": 127,
   "metadata": {},
   "outputs": [],
   "source": [
    "actions_nonmedial['feature'] = 'action'\n",
    "bg_nonmedial['feature'] = 'background'\n",
    "agents_nonmedial['feature'] = 'agent'\n",
    "stack_df = pd.concat([actions_nonmedial, bg_nonmedial, agents_nonmedial])\n",
    "#sdf =  stack_df.rename({0:'node', 1:'correlation'}, axis = 'columns')"
   ]
  },
  {
   "cell_type": "code",
   "execution_count": 133,
   "metadata": {},
   "outputs": [
    {
     "data": {
      "text/plain": [
       "0                 early visual cortex\n",
       "1                 early visual cortex\n",
       "2                 early visual cortex\n",
       "3                 early visual cortex\n",
       "4               early auditory cortex\n",
       "5               early auditory cortex\n",
       "6               early auditory cortex\n",
       "7               early auditory cortex\n",
       "8     lateral occipitotemporal cortex\n",
       "9     lateral occipitotemporal cortex\n",
       "10    lateral occipitotemporal cortex\n",
       "11    lateral occipitotemporal cortex\n",
       "12            ventral temporal cortex\n",
       "13            ventral temporal cortex\n",
       "14            lateral parietal cortex\n",
       "15            lateral parietal cortex\n",
       "16                    premotor cortex\n",
       "17                    premotor cortex\n",
       "18                    premotor cortex\n",
       "0                 early visual cortex\n",
       "1                 early visual cortex\n",
       "2                 early visual cortex\n",
       "3                 early visual cortex\n",
       "4               early auditory cortex\n",
       "5               early auditory cortex\n",
       "6               early auditory cortex\n",
       "7               early auditory cortex\n",
       "8     lateral occipitotemporal cortex\n",
       "9     lateral occipitotemporal cortex\n",
       "10    lateral occipitotemporal cortex\n",
       "11    lateral occipitotemporal cortex\n",
       "12            ventral temporal cortex\n",
       "13            ventral temporal cortex\n",
       "14            lateral parietal cortex\n",
       "15            lateral parietal cortex\n",
       "16                    premotor cortex\n",
       "17                    premotor cortex\n",
       "18                    premotor cortex\n",
       "0                 early visual cortex\n",
       "1                 early visual cortex\n",
       "2                 early visual cortex\n",
       "3                 early visual cortex\n",
       "4               early auditory cortex\n",
       "5               early auditory cortex\n",
       "6               early auditory cortex\n",
       "7               early auditory cortex\n",
       "8     lateral occipitotemporal cortex\n",
       "9     lateral occipitotemporal cortex\n",
       "10    lateral occipitotemporal cortex\n",
       "11    lateral occipitotemporal cortex\n",
       "12            ventral temporal cortex\n",
       "13            ventral temporal cortex\n",
       "14            lateral parietal cortex\n",
       "15            lateral parietal cortex\n",
       "16                    premotor cortex\n",
       "17                    premotor cortex\n",
       "18                    premotor cortex\n",
       "Name: regions, dtype: object"
      ]
     },
     "execution_count": 133,
     "metadata": {},
     "output_type": "execute_result"
    }
   ],
   "source": [
    "stack_df['regions']"
   ]
  },
  {
   "cell_type": "code",
   "execution_count": 139,
   "metadata": {},
   "outputs": [
    {
     "data": {
      "text/html": [
       "<div>\n",
       "<style scoped>\n",
       "    .dataframe tbody tr th:only-of-type {\n",
       "        vertical-align: middle;\n",
       "    }\n",
       "\n",
       "    .dataframe tbody tr th {\n",
       "        vertical-align: top;\n",
       "    }\n",
       "\n",
       "    .dataframe thead th {\n",
       "        text-align: right;\n",
       "    }\n",
       "</style>\n",
       "<table border=\"1\" class=\"dataframe\">\n",
       "  <thead>\n",
       "    <tr style=\"text-align: right;\">\n",
       "      <th></th>\n",
       "      <th>node</th>\n",
       "      <th>corr</th>\n",
       "      <th>hyperparameter</th>\n",
       "      <th>regions</th>\n",
       "      <th>feature</th>\n",
       "    </tr>\n",
       "  </thead>\n",
       "  <tbody>\n",
       "    <tr>\n",
       "      <th>0</th>\n",
       "      <td>21569.0</td>\n",
       "      <td>0.033694</td>\n",
       "      <td>1.0</td>\n",
       "      <td>early visual cortex</td>\n",
       "      <td>action</td>\n",
       "    </tr>\n",
       "    <tr>\n",
       "      <th>1</th>\n",
       "      <td>27912.0</td>\n",
       "      <td>0.022356</td>\n",
       "      <td>1.0</td>\n",
       "      <td>early visual cortex</td>\n",
       "      <td>action</td>\n",
       "    </tr>\n",
       "    <tr>\n",
       "      <th>2</th>\n",
       "      <td>35942.0</td>\n",
       "      <td>-0.052863</td>\n",
       "      <td>1.0</td>\n",
       "      <td>early visual cortex</td>\n",
       "      <td>action</td>\n",
       "    </tr>\n",
       "    <tr>\n",
       "      <th>3</th>\n",
       "      <td>28601.0</td>\n",
       "      <td>-0.040333</td>\n",
       "      <td>1.0</td>\n",
       "      <td>early visual cortex</td>\n",
       "      <td>action</td>\n",
       "    </tr>\n",
       "    <tr>\n",
       "      <th>4</th>\n",
       "      <td>38080.0</td>\n",
       "      <td>0.004359</td>\n",
       "      <td>1.0</td>\n",
       "      <td>early auditory cortex</td>\n",
       "      <td>action</td>\n",
       "    </tr>\n",
       "  </tbody>\n",
       "</table>\n",
       "</div>"
      ],
      "text/plain": [
       "      node      corr  hyperparameter                regions feature\n",
       "0  21569.0  0.033694             1.0    early visual cortex  action\n",
       "1  27912.0  0.022356             1.0    early visual cortex  action\n",
       "2  35942.0 -0.052863             1.0    early visual cortex  action\n",
       "3  28601.0 -0.040333             1.0    early visual cortex  action\n",
       "4  38080.0  0.004359             1.0  early auditory cortex  action"
      ]
     },
     "execution_count": 139,
     "metadata": {},
     "output_type": "execute_result"
    }
   ],
   "source": [
    "stack_df.head()"
   ]
  },
  {
   "cell_type": "code",
   "execution_count": 147,
   "metadata": {},
   "outputs": [
    {
     "data": {
      "text/plain": [
       "array(['early visual cortex', 'early auditory cortex',\n",
       "       'lateral occipitotemporal cortex', 'ventral temporal cortex',\n",
       "       'lateral parietal cortex', 'premotor cortex'], dtype=object)"
      ]
     },
     "execution_count": 147,
     "metadata": {},
     "output_type": "execute_result"
    }
   ],
   "source": [
    "df.regions.unique()"
   ]
  },
  {
   "cell_type": "code",
   "execution_count": 157,
   "metadata": {},
   "outputs": [],
   "source": [
    "def plot_corr_feature_per_region(dataframe, title, region, clr):\n",
    "#     df = actions_nonmedial\n",
    "    dataframe = dataframe[['feature','node', 'corr', 'regions']]\n",
    "    dataframe_sub = dataframe[dataframe[\"regions\"] == region]\n",
    "#     fig, axes = plt.subplots() \n",
    "    new_df = dataframe_sub.set_index(['feature', 'node'])\n",
    "    # Create figure with a subplot for each factory zone with a relative width\n",
    "    # proportionate to the number of factories\n",
    "    zones = new_df.index.levels[0]\n",
    "#     print(zones)\n",
    "    nplots = zones.size\n",
    "    plots_width_ratios = [new_df.xs(zone).index.size*2 for zone in zones]\n",
    "    fig, axes = plt.subplots(nrows=1, ncols=nplots, sharey=True, figsize=(10, 4),\n",
    "                             gridspec_kw = dict(width_ratios=plots_width_ratios, wspace=0))\n",
    "#     colors = ['#10EDF5', '#28BCE0', '#556CBC', '#7343A9', '#9B0F8C', '#B8007F']\n",
    "    # Loop through array of axes to create grouped bar chart for each factory zone\n",
    "    alpha = 0.3 # used for grid lines, bottom spine and separation lines between zones\n",
    "    for zone, ax in zip(zones, axes):\n",
    "        # Create bar chart with grid lines and no spines except bottom one\n",
    "        new_df.xs(zone).plot.bar(ax=ax, legend=None, zorder=2,  color = clr)\n",
    "        ax.grid(axis='y', zorder=1, color='black', alpha=alpha)\n",
    "\n",
    "        ax.spines['bottom'].set_alpha(alpha)\n",
    "\n",
    "        # Set and place x labels for factory zones\n",
    "#         xlabels = [name.replace(' ', '\\n') if len(name) > 10 else name\n",
    "#                       for name in zones]\n",
    "\n",
    "        xlabels = [zone.replace(' ', '\\n') if len(zone) > 10 else zone][0]  \n",
    "        ax.set_xlabel(xlabels, fontsize = 12)\n",
    "        ax.set_ylabel('correlation coefficient', fontsize = 12)\n",
    "    #     ax.set_xlabel(xlabel)\n",
    "        ax.xaxis.set_label_coords(x=0.5, y=-0.2)\n",
    "\n",
    "        ticklabels = new_df.xs(zone).index\n",
    "        ax.set_xticklabels(ticklabels, rotation=45, ha='center',fontsize=8)\n",
    "        ax.tick_params(axis='both', length=0, pad=7)\n",
    "        ax.set_ylim(-0.15,0.15)\n",
    "\n",
    "\n",
    "        if ax.is_first_col():\n",
    "            ax.set_xticks([*ax.get_xlim()], minor=True)\n",
    "        else:\n",
    "            ax.set_xticks([ax.get_xlim()[1]], minor=True)\n",
    "    #     ax.tick_params(which='minor', length=55, width=0.8, color=[0, 0, 0, alpha])\n",
    "\n",
    "    # Add legend using the labels and handles from the last subplot\n",
    "    #fig.legend(*ax.get_legend_handles_labels(), frameon=False, loc=(0.08, 0.77))\n",
    "\n",
    "    fig.suptitle(title, y=1.02, size=20);\n",
    "    plt.show()"
   ]
  },
  {
   "cell_type": "code",
   "execution_count": 158,
   "metadata": {},
   "outputs": [
    {
     "data": {
      "image/png": "[encoded data removed]",
      "text/plain": [
       "<Figure size 720x288 with 3 Axes>"
      ]
     },
     "metadata": {
      "needs_background": "light"
     },
     "output_type": "display_data"
    },
    {
     "data": {
      "image/png": "[encoded data removed]",
      "text/plain": [
       "<Figure size 720x288 with 3 Axes>"
      ]
     },
     "metadata": {
      "needs_background": "light"
     },
     "output_type": "display_data"
    },
    {
     "data": {
      "image/png": "[encoded data removed]",
      "text/plain": [
       "<Figure size 720x288 with 3 Axes>"
      ]
     },
     "metadata": {
      "needs_background": "light"
     },
     "output_type": "display_data"
    },
    {
     "data": {
      "image/png": "[encoded data removed]",
      "text/plain": [
       "<Figure size 720x288 with 3 Axes>"
      ]
     },
     "metadata": {
      "needs_background": "light"
     },
     "output_type": "display_data"
    },
    {
     "data": {
      "image/png": "[encoded data removed]",
      "text/plain": [
       "<Figure size 720x288 with 3 Axes>"
      ]
     },
     "metadata": {
      "needs_background": "light"
     },
     "output_type": "display_data"
    },
    {
     "data": {
      "image/png": "[encoded data removed]",
      "text/plain": [
       "<Figure size 720x288 with 3 Axes>"
      ]
     },
     "metadata": {
      "needs_background": "light"
     },
     "output_type": "display_data"
    }
   ],
   "source": [
    "colors = ['#10EDF5', '#28BCE0', '#556CBC', '#7343A9', '#9B0F8C', '#B8007F']\n",
    "for region, clr in zip(list(df.regions.unique()), colors):\n",
    "    plot_corr_feature_per_region(stack_df,region,region,clr)"
   ]
  },
  {
   "cell_type": "code",
   "execution_count": 34,
   "metadata": {},
   "outputs": [
    {
     "data": {
      "text/plain": [
       "Text(0, 0.5, 'frequency')"
      ]
     },
     "execution_count": 34,
     "metadata": {},
     "output_type": "execute_result"
    },
    {
     "data": {
      "image/png": "[encoded data removed]",
      "text/plain": [
       "<Figure size 432x288 with 1 Axes>"
      ]
     },
     "metadata": {
      "needs_background": "light"
     },
     "output_type": "display_data"
    }
   ],
   "source": [
    "# https://stackoverflow.com/questions/48238305/bar-plot-with-groupby\n",
    "\n",
    "for g in pd.unique(stack_df['feature']):\n",
    "    stack_df.loc[stack_df['feature']==g,'corr'].hist(alpha=0.35,\n",
    "                                             label=g,density=True)\n",
    "plt.legend(loc='upper left')\n",
    "plt.xlabel('correlation coefficient')\n",
    "plt.ylabel('frequency')\n",
    "\n",
    "\n",
    "# sdf.groupby('feature')['correlation'].hist(bins=10, alpha=0.65, density=True, label=g)"
   ]
  },
  {
   "cell_type": "markdown",
   "metadata": {},
   "source": [
    "## plot 4) relationsihp betwen hyperalignment"
   ]
  },
  {
   "cell_type": "code",
   "execution_count": 159,
   "metadata": {},
   "outputs": [
    {
     "data": {
      "image/png": "[encoded data removed]",
      "text/plain": [
       "<Figure size 432x288 with 1 Axes>"
      ]
     },
     "metadata": {
      "needs_background": "light"
     },
     "output_type": "display_data"
    }
   ],
   "source": [
    "\n",
    "\n",
    "y =sns.scatterplot(x=\"corr\", y=\"hyperparameter\",\n",
    "              hue=\"feature\",\n",
    "              data=stack_df[stack_df['regions'] == 'early visual cortex']);\n",
    "y.set_yscale('log')"
   ]
  },
  {
   "cell_type": "code",
   "execution_count": 160,
   "metadata": {},
   "outputs": [
    {
     "data": {
      "image/png": "[encoded data removed]",
      "text/plain": [
       "<Figure size 432x288 with 1 Axes>"
      ]
     },
     "metadata": {
      "needs_background": "light"
     },
     "output_type": "display_data"
    }
   ],
   "source": [
    "y =sns.scatterplot(x=\"corr\", y=\"hyperparameter\",\n",
    "              hue=\"feature\",\n",
    "              data=stack_df[stack_df['regions'] == 'ventral temporal cortex']);\n",
    "y.set_yscale('log')"
   ]
  },
  {
   "cell_type": "markdown",
   "metadata": {},
   "source": [
    "# plot json for meeting: 0511"
   ]
  },
  {
   "cell_type": "markdown",
   "metadata": {},
   "source": [
    "* list the non-medial valid nodes\n",
    "* load the json files from tikreg result\n",
    "* transform them into pandas\n",
    "* add informative columns - node, hyperparameter\n",
    "* merge pandas so that - node, hyperparmeter, correlation is in one space\n",
    "* remove medical nodes OR grab the intersection of the non-medial nodes"
   ]
  },
  {
   "cell_type": "code",
   "execution_count": 9,
   "metadata": {},
   "outputs": [],
   "source": [
    "non_medial_list = [620,621, 622, 623,624, 625, 626, 627 ,628 ,629 ,630, 631, 632, 633]\n",
    "non_medial = pd.DataFrame(non_medial_list)\n",
    "non_medial.rename({0:'node'}, axis = 'columns', inplace = True)"
   ]
  },
  {
   "cell_type": "code",
   "execution_count": 10,
   "metadata": {},
   "outputs": [],
   "source": [
    "hyper_json = [[620.0, 695.1927961775606], [621.0, 78.47599703514611], [622.0, 12.742749857031335], [623.0, 1000.0], [624.0, 1.4384498882876628], [625.0, 1.0], [626.0, 1.0], [627.0, 1.0], [628.0, 1.0], [629.0, 1.4384498882876628], [630.0, 1.4384498882876628], [631.0, 1.0], [632.0, 1.0], [633.0, 1.4384498882876628], [634.0, 0.0], [635.0, 0.0], [636.0, 0.0], [637.0, 0.0], [638.0, 0.0], [639.0, 0.0]]\n",
    "j\n",
    "agents_json = [[620.0, 0.10695612306621441], [621.0, 0.02968975453972098], [622.0, -0.01837641756051391], [623.0, -0.00027822419442339637], [624.0, -0.041449768840175844], [625.0, 0.013350879654291985], [626.0, -0.02213769089764677], [627.0, 0.054777928374611075], [628.0, 0.11240840245410645], [629.0, 0.08477064818671734], [630.0, 0.07152715799854355], [631.0, 0.026399032803624014], [632.0, 0.04486676696517466], [633.0, 0.05565418267073641], [634.0, 0.0], [635.0, 0.0], [636.0, 0.0], [637.0, 0.0], [638.0, 0.0], [639.0, 0.0]]\n",
    "bg_json = [[620.0, 0.03444762999853621], [621.0, 0.08013541125452966], [622.0, -0.06196424353521833], [623.0, 0.006152089603711072], [624.0, -0.018681086785922812], [625.0, -0.003495495478741341], [626.0, 0.056946616101909805], [627.0, 0.06845853670717546], [628.0, 0.018831174087128002], [629.0, -0.09460541406702505], [630.0, 0.10875650126471159], [631.0, -0.06498809761530627], [632.0, -0.05859987731663386], [633.0, -0.015436353050162265], [634.0, 0.0], [635.0, 0.0], [636.0, 0.0], [637.0, 0.0], [638.0, 0.0], [639.0, 0.0]]\n",
    "actions_json = [[620.0, 0.05781036701516131], [621.0, 0.020910933548079505], [622.0, -0.06086380851948953], [623.0, -0.032483329765095346], [624.0, 0.025221257380514863], [625.0, -0.10647690350526494], [626.0, 0.07006317700509616], [627.0, -0.07271005956925813], [628.0, -0.17063244391304386], [629.0, -0.047108950297373664], [630.0, 0.1388804285083073], [631.0, -0.06623534866286851], [632.0, -0.06983595928063858], [633.0, 0.02012266370985323], [634.0, 0.0], [635.0, 0.0], [636.0, 0.0], [637.0, 0.0], [638.0, 0.0], [639.0, 0.0]]"
   ]
  },
  {
   "cell_type": "code",
   "execution_count": 11,
   "metadata": {},
   "outputs": [],
   "source": [
    "hyper_df = pd.DataFrame(hyper_json)\n",
    "agents_df = pd.DataFrame(agents_json)\n",
    "bg_df = pd.DataFrame(bg_json)\n",
    "actions_df = pd.DataFrame(actions_json)\n",
    "hyper_df.rename({0:'node', 1:'hyperparameter'}, axis = 'columns', inplace = True)\n",
    "agents_df.rename({0:'node', 1:'corr'}, axis = 'columns', inplace = True)\n",
    "bg_df.rename({0:'node', 1:'corr'}, axis = 'columns', inplace = True)\n",
    "actions_df.rename({0:'node', 1:'corr'}, axis = 'columns', inplace = True)"
   ]
  },
  {
   "cell_type": "code",
   "execution_count": 12,
   "metadata": {},
   "outputs": [],
   "source": [
    "agents_merged = agents_df.merge(hyper_df, on=[\"node\"])\n",
    "bg_merged = bg_df.merge(hyper_df, on=[\"node\"])\n",
    "actions_merged = actions_df.merge(hyper_df, on=[\"node\"])\n",
    "\n"
   ]
  },
  {
   "cell_type": "code",
   "execution_count": 13,
   "metadata": {},
   "outputs": [],
   "source": [
    "# select ONLY non-medial nodes\n",
    "agents_nonmedial = agents_merged.merge(non_medial, how='inner', on='node')\n",
    "bg_nonmedial = bg_merged.merge(non_medial, how='inner', on='node')\n",
    "actions_nonmedial = actions_merged.merge(non_medial, how='inner', on='node')\n"
   ]
  },
  {
   "cell_type": "code",
   "execution_count": 14,
   "metadata": {},
   "outputs": [
    {
     "data": {
      "text/html": [
       "<div>\n",
       "<style scoped>\n",
       "    .dataframe tbody tr th:only-of-type {\n",
       "        vertical-align: middle;\n",
       "    }\n",
       "\n",
       "    .dataframe tbody tr th {\n",
       "        vertical-align: top;\n",
       "    }\n",
       "\n",
       "    .dataframe thead th {\n",
       "        text-align: right;\n",
       "    }\n",
       "</style>\n",
       "<table border=\"1\" class=\"dataframe\">\n",
       "  <thead>\n",
       "    <tr style=\"text-align: right;\">\n",
       "      <th></th>\n",
       "      <th>node</th>\n",
       "      <th>corr</th>\n",
       "      <th>hyperparameter</th>\n",
       "    </tr>\n",
       "  </thead>\n",
       "  <tbody>\n",
       "    <tr>\n",
       "      <th>0</th>\n",
       "      <td>620.0</td>\n",
       "      <td>0.057810</td>\n",
       "      <td>695.192796</td>\n",
       "    </tr>\n",
       "    <tr>\n",
       "      <th>1</th>\n",
       "      <td>621.0</td>\n",
       "      <td>0.020911</td>\n",
       "      <td>78.475997</td>\n",
       "    </tr>\n",
       "    <tr>\n",
       "      <th>2</th>\n",
       "      <td>622.0</td>\n",
       "      <td>-0.060864</td>\n",
       "      <td>12.742750</td>\n",
       "    </tr>\n",
       "    <tr>\n",
       "      <th>3</th>\n",
       "      <td>623.0</td>\n",
       "      <td>-0.032483</td>\n",
       "      <td>1000.000000</td>\n",
       "    </tr>\n",
       "    <tr>\n",
       "      <th>4</th>\n",
       "      <td>624.0</td>\n",
       "      <td>0.025221</td>\n",
       "      <td>1.438450</td>\n",
       "    </tr>\n",
       "  </tbody>\n",
       "</table>\n",
       "</div>"
      ],
      "text/plain": [
       "    node      corr  hyperparameter\n",
       "0  620.0  0.057810      695.192796\n",
       "1  621.0  0.020911       78.475997\n",
       "2  622.0 -0.060864       12.742750\n",
       "3  623.0 -0.032483     1000.000000\n",
       "4  624.0  0.025221        1.438450"
      ]
     },
     "execution_count": 14,
     "metadata": {},
     "output_type": "execute_result"
    }
   ],
   "source": [
    "actions_nonmedial.head()"
   ]
  },
  {
   "cell_type": "code",
   "execution_count": 15,
   "metadata": {},
   "outputs": [
    {
     "data": {
      "text/html": [
       "<div>\n",
       "<style scoped>\n",
       "    .dataframe tbody tr th:only-of-type {\n",
       "        vertical-align: middle;\n",
       "    }\n",
       "\n",
       "    .dataframe tbody tr th {\n",
       "        vertical-align: top;\n",
       "    }\n",
       "\n",
       "    .dataframe thead th {\n",
       "        text-align: right;\n",
       "    }\n",
       "</style>\n",
       "<table border=\"1\" class=\"dataframe\">\n",
       "  <thead>\n",
       "    <tr style=\"text-align: right;\">\n",
       "      <th></th>\n",
       "      <th>node</th>\n",
       "      <th>corr</th>\n",
       "      <th>hyperparameter</th>\n",
       "    </tr>\n",
       "  </thead>\n",
       "  <tbody>\n",
       "    <tr>\n",
       "      <th>0</th>\n",
       "      <td>620.0</td>\n",
       "      <td>0.106956</td>\n",
       "      <td>695.192796</td>\n",
       "    </tr>\n",
       "    <tr>\n",
       "      <th>1</th>\n",
       "      <td>621.0</td>\n",
       "      <td>0.029690</td>\n",
       "      <td>78.475997</td>\n",
       "    </tr>\n",
       "    <tr>\n",
       "      <th>2</th>\n",
       "      <td>622.0</td>\n",
       "      <td>-0.018376</td>\n",
       "      <td>12.742750</td>\n",
       "    </tr>\n",
       "    <tr>\n",
       "      <th>3</th>\n",
       "      <td>623.0</td>\n",
       "      <td>-0.000278</td>\n",
       "      <td>1000.000000</td>\n",
       "    </tr>\n",
       "    <tr>\n",
       "      <th>4</th>\n",
       "      <td>624.0</td>\n",
       "      <td>-0.041450</td>\n",
       "      <td>1.438450</td>\n",
       "    </tr>\n",
       "  </tbody>\n",
       "</table>\n",
       "</div>"
      ],
      "text/plain": [
       "    node      corr  hyperparameter\n",
       "0  620.0  0.106956      695.192796\n",
       "1  621.0  0.029690       78.475997\n",
       "2  622.0 -0.018376       12.742750\n",
       "3  623.0 -0.000278     1000.000000\n",
       "4  624.0 -0.041450        1.438450"
      ]
     },
     "execution_count": 15,
     "metadata": {},
     "output_type": "execute_result"
    }
   ],
   "source": [
    "agents_nonmedial.head()"
   ]
  },
  {
   "cell_type": "markdown",
   "metadata": {},
   "source": [
    "## plot 1) hyper parameter value per node"
   ]
  },
  {
   "cell_type": "code",
   "execution_count": 16,
   "metadata": {},
   "outputs": [
    {
     "data": {
      "image/png": "[encoded data removed]",
      "text/plain": [
       "<Figure size 432x288 with 1 Axes>"
      ]
     },
     "metadata": {
      "needs_background": "light"
     },
     "output_type": "display_data"
    }
   ],
   "source": [
    "# ax = hdf.hist( column =, bins=25, grid=False, figsize=(8,10), layout=(3,1), sharex=True, color='#86bf91', zorder=2, rwidth=0.9)\n",
    "#ax = agents_merged.plot.bar(x='node', y='hyperparameter', rot=45, )\n",
    "b = actions_nonmedial.plot.bar(x='node', y='hyperparameter', rot=45, )\n",
    "#c = actions_merged.plot.bar(x='node', y='hyperparameter', rot=45, )\n"
   ]
  },
  {
   "cell_type": "markdown",
   "metadata": {},
   "source": [
    "## plot 2) correlation coefficient per node"
   ]
  },
  {
   "cell_type": "code",
   "execution_count": 17,
   "metadata": {},
   "outputs": [
    {
     "data": {
      "image/png": "[encoded data removed]",
      "text/plain": [
       "<Figure size 432x288 with 1 Axes>"
      ]
     },
     "metadata": {
      "needs_background": "light"
     },
     "output_type": "display_data"
    },
    {
     "data": {
      "image/png": "[encoded data removed]",
      "text/plain": [
       "<Figure size 432x288 with 1 Axes>"
      ]
     },
     "metadata": {
      "needs_background": "light"
     },
     "output_type": "display_data"
    },
    {
     "data": {
      "image/png": "[encoded data removed]",
      "text/plain": [
       "<Figure size 432x288 with 1 Axes>"
      ]
     },
     "metadata": {
      "needs_background": "light"
     },
     "output_type": "display_data"
    }
   ],
   "source": [
    "ax = actions_nonmedial.plot.bar(x='node', y='corr', rot=45,)\n",
    "ax = bg_nonmedial.plot.bar(x='node', y='corr', rot=45,)\n",
    "ax = agents_nonmedial.plot.bar(x='node', y='corr', rot=45,)"
   ]
  },
  {
   "cell_type": "markdown",
   "metadata": {},
   "source": [
    "## plot 3) stacked"
   ]
  },
  {
   "cell_type": "code",
   "execution_count": 18,
   "metadata": {},
   "outputs": [],
   "source": [
    "actions_nonmedial['feature'] = 'action'\n",
    "bg_nonmedial['feature'] = 'background'\n",
    "agents_nonmedial['feature'] = 'agent'\n",
    "stack_df = pd.concat([actions_nonmedial, bg_nonmedial, agents_nonmedial])\n",
    "#sdf =  stack_df.rename({0:'node', 1:'correlation'}, axis = 'columns')"
   ]
  },
  {
   "cell_type": "code",
   "execution_count": 19,
   "metadata": {},
   "outputs": [
    {
     "data": {
      "text/html": [
       "<div>\n",
       "<style scoped>\n",
       "    .dataframe tbody tr th:only-of-type {\n",
       "        vertical-align: middle;\n",
       "    }\n",
       "\n",
       "    .dataframe tbody tr th {\n",
       "        vertical-align: top;\n",
       "    }\n",
       "\n",
       "    .dataframe thead th {\n",
       "        text-align: right;\n",
       "    }\n",
       "</style>\n",
       "<table border=\"1\" class=\"dataframe\">\n",
       "  <thead>\n",
       "    <tr style=\"text-align: right;\">\n",
       "      <th></th>\n",
       "      <th>node</th>\n",
       "      <th>corr</th>\n",
       "      <th>hyperparameter</th>\n",
       "      <th>feature</th>\n",
       "    </tr>\n",
       "  </thead>\n",
       "  <tbody>\n",
       "    <tr>\n",
       "      <th>0</th>\n",
       "      <td>620.0</td>\n",
       "      <td>0.057810</td>\n",
       "      <td>695.192796</td>\n",
       "      <td>action</td>\n",
       "    </tr>\n",
       "    <tr>\n",
       "      <th>1</th>\n",
       "      <td>621.0</td>\n",
       "      <td>0.020911</td>\n",
       "      <td>78.475997</td>\n",
       "      <td>action</td>\n",
       "    </tr>\n",
       "    <tr>\n",
       "      <th>2</th>\n",
       "      <td>622.0</td>\n",
       "      <td>-0.060864</td>\n",
       "      <td>12.742750</td>\n",
       "      <td>action</td>\n",
       "    </tr>\n",
       "    <tr>\n",
       "      <th>3</th>\n",
       "      <td>623.0</td>\n",
       "      <td>-0.032483</td>\n",
       "      <td>1000.000000</td>\n",
       "      <td>action</td>\n",
       "    </tr>\n",
       "    <tr>\n",
       "      <th>4</th>\n",
       "      <td>624.0</td>\n",
       "      <td>0.025221</td>\n",
       "      <td>1.438450</td>\n",
       "      <td>action</td>\n",
       "    </tr>\n",
       "  </tbody>\n",
       "</table>\n",
       "</div>"
      ],
      "text/plain": [
       "    node      corr  hyperparameter feature\n",
       "0  620.0  0.057810      695.192796  action\n",
       "1  621.0  0.020911       78.475997  action\n",
       "2  622.0 -0.060864       12.742750  action\n",
       "3  623.0 -0.032483     1000.000000  action\n",
       "4  624.0  0.025221        1.438450  action"
      ]
     },
     "execution_count": 19,
     "metadata": {},
     "output_type": "execute_result"
    }
   ],
   "source": [
    "stack_df.head()"
   ]
  },
  {
   "cell_type": "code",
   "execution_count": 20,
   "metadata": {},
   "outputs": [
    {
     "data": {
      "text/plain": [
       "<matplotlib.legend.Legend at 0x7ff7e6d98940>"
      ]
     },
     "execution_count": 20,
     "metadata": {},
     "output_type": "execute_result"
    },
    {
     "data": {
      "image/png": "[encoded data removed]",
      "text/plain": [
       "<Figure size 432x288 with 1 Axes>"
      ]
     },
     "metadata": {
      "needs_background": "light"
     },
     "output_type": "display_data"
    }
   ],
   "source": [
    "# https://stackoverflow.com/questions/48238305/bar-plot-with-groupby\n",
    "\n",
    "for g in pd.unique(stack_df['feature']):\n",
    "    stack_df.loc[stack_df['feature']==g,'corr'].hist(alpha=0.35,\n",
    "                                             label=g,density=True)\n",
    "plt.legend(loc='upper left')\n",
    "\n",
    "\n",
    "# sdf.groupby('feature')['correlation'].hist(bins=10, alpha=0.65, density=True, label=g)"
   ]
  },
  {
   "cell_type": "markdown",
   "metadata": {},
   "source": [
    "## relationship between hyperparameter and correlation coefficient"
   ]
  },
  {
   "cell_type": "code",
   "execution_count": 21,
   "metadata": {},
   "outputs": [
    {
     "data": {
      "image/png": "[encoded data removed]",
      "text/plain": [
       "<Figure size 432x288 with 1 Axes>"
      ]
     },
     "metadata": {
      "needs_background": "light"
     },
     "output_type": "display_data"
    }
   ],
   "source": [
    "# ax2 = stack_df.plot.scatter(x='hyperparameter',\n",
    "#                       y='corr',\n",
    "#                       c='feature',\n",
    "#                       colormap='viridis')\n",
    "\n",
    "g =sns.scatterplot(x=\"hyperparameter\", y=\"corr\",\n",
    "              hue=\"feature\",\n",
    "              data=stack_df);\n",
    "# g.set(xscale=\"log\");"
   ]
  },
  {
   "cell_type": "code",
   "execution_count": 23,
   "metadata": {},
   "outputs": [
    {
     "ename": "NameError",
     "evalue": "name 'sdf' is not defined",
     "output_type": "error",
     "traceback": [
      "\u001b[0;31m---------------------------------------------------------------------------\u001b[0m",
      "\u001b[0;31mNameError\u001b[0m                                 Traceback (most recent call last)",
      "\u001b[0;32m<ipython-input-23-2344fde56873>\u001b[0m in \u001b[0;36m<module>\u001b[0;34m\u001b[0m\n\u001b[1;32m      1\u001b[0m \u001b[0;31m# https://stackoverflow.com/questions/48238305/bar-plot-with-groupby\u001b[0m\u001b[0;34m\u001b[0m\u001b[0;34m\u001b[0m\u001b[0;34m\u001b[0m\u001b[0m\n\u001b[1;32m      2\u001b[0m \u001b[0;34m\u001b[0m\u001b[0m\n\u001b[0;32m----> 3\u001b[0;31m \u001b[0;32mfor\u001b[0m \u001b[0mg\u001b[0m \u001b[0;32min\u001b[0m \u001b[0mpd\u001b[0m\u001b[0;34m.\u001b[0m\u001b[0munique\u001b[0m\u001b[0;34m(\u001b[0m\u001b[0msdf\u001b[0m\u001b[0;34m[\u001b[0m\u001b[0;34m'feature'\u001b[0m\u001b[0;34m]\u001b[0m\u001b[0;34m)\u001b[0m\u001b[0;34m:\u001b[0m\u001b[0;34m\u001b[0m\u001b[0;34m\u001b[0m\u001b[0m\n\u001b[0m\u001b[1;32m      4\u001b[0m     sdf.loc[sdf['feature']==g,'correlation'].hist(alpha=0.35,\n\u001b[1;32m      5\u001b[0m                                              label=g,density=True)\n",
      "\u001b[0;31mNameError\u001b[0m: name 'sdf' is not defined"
     ]
    }
   ],
   "source": [
    "# https://stackoverflow.com/questions/48238305/bar-plot-with-groupby\n",
    "\n",
    "for g in pd.unique(sdf['feature']):\n",
    "    sdf.loc[sdf['feature']==g,'correlation'].hist(alpha=0.35,\n",
    "                                             label=g,density=True)\n",
    "plt.legend(loc='upper left')\n",
    "\n",
    "\n",
    "# sdf.groupby('feature')['correlation'].hist(bins=10, alpha=0.65, density=True, label=g)"
   ]
  },
  {
   "cell_type": "markdown",
   "metadata": {},
   "source": [
    "# node from LOC 0518"
   ]
  },
  {
   "cell_type": "markdown",
   "metadata": {},
   "source": [
    "## plot reference\n",
    "https://pandas.pydata.org/pandas-docs/version/0.22/generated/pandas.DataFrame.plot.html"
   ]
  },
  {
   "cell_type": "code",
   "execution_count": 24,
   "metadata": {},
   "outputs": [],
   "source": [
    "non_medial_list = [21600, 21601, 21602, 21603, 21604, 21605, 21606, 21607, 21608, 21609, 21610, 21611,\n",
    " 21612, 21613, 21614, 21615, 21616, 21617, 21618, 21619]\n",
    "non_medial = pd.DataFrame(non_medial_list)\n",
    "non_medial.rename({0:'node'}, axis = 'columns', inplace = True)"
   ]
  },
  {
   "cell_type": "code",
   "execution_count": 25,
   "metadata": {},
   "outputs": [],
   "source": [
    "hyper_json = [[21600.0, 1.0], [21601.0, 1.0], [21602.0, 1.0], [21603.0, 1.0], [21604.0, 1.8329807108324359], [21605.0, 1.0], [21606.0, 1.0], [21607.0, 1.0], [21608.0, 1.0], [21609.0, 1.0], [21610.0, 127.42749857031335], [21611.0, 233.57214690901213], [21612.0, 37.926901907322495], [21613.0, 1.0], [21614.0, 1.0], [21615.0, 1.0], [21616.0, 1.0], [21617.0, 784.7599703514607], [21618.0, 4832.930238571752], [21619.0, 4832.930238571752]]\n",
    "\n",
    "agents_json = [[21600.0, 0.0020654794655477833], [21601.0, 0.03524745170528604], [21602.0, -0.024751760090916227], [21603.0, -0.011750966036402508], [21604.0, -0.018224847271316662], [21605.0, -0.05257653901239299], [21606.0, -0.03315024283371173], [21607.0, 0.034750331702608], [21608.0, 0.042700897690649504], [21609.0, 0.05270972089209599], [21610.0, 0.040361261503911526], [21611.0, -0.0260599924227575], [21612.0, 0.001073302096629109], [21613.0, -0.03522812563830022], [21614.0, 0.027061209283653662], [21615.0, 0.06277921039057018], [21616.0, -0.009910057242161718], [21617.0, 0.16218149135656285], [21618.0, 0.1798868339064156], [21619.0, 0.17805475429221654]]\n",
    "bg_json = [[21600.0, 0.038390188475820125], [21601.0, -0.02763494952701908], [21602.0, 0.05385366035991715], [21603.0, 0.06928474889983045], [21604.0, 0.0752464784519902], [21605.0, 0.06557437302461004], [21606.0, 0.09914702141828584], [21607.0, 0.014854353607596793], [21608.0, 0.07762405777692115], [21609.0, 0.0780040957131327], [21610.0, 0.061734436276567405], [21611.0, 0.07525043594312254], [21612.0, 0.0690803657507335], [21613.0, 0.018608261265104255], [21614.0, -0.0035499558722943097], [21615.0, -0.025355175425914776], [21616.0, 0.06599946648917296], [21617.0, 0.07214324488232941], [21618.0, 0.07878703616901396], [21619.0, 0.06186661556474535]]\n",
    "actions_json = [[21600.0, 0.07451195479925381], [21601.0, 0.11947535180460259], [21602.0, -0.10919544884835716], [21603.0, -0.04701672821854264], [21604.0, -0.09139703904696418], [21605.0, -0.06317710466047474], [21606.0, -0.10242823760809731], [21607.0, -0.09293668913414466], [21608.0, -0.07102190440750146], [21609.0, -0.08110313766200762], [21610.0, 0.0569570581086783], [21611.0, 0.0373787008696041], [21612.0, 0.021717177250048864], [21613.0, -0.001355626644006259], [21614.0, 0.07077726267059627], [21615.0, -0.002763179698393347], [21616.0, 0.03735567743837629], [21617.0, 0.07244418389973703], [21618.0, 0.09209127431193], [21619.0, 0.09306802448693413]]"
   ]
  },
  {
   "cell_type": "code",
   "execution_count": 26,
   "metadata": {},
   "outputs": [],
   "source": [
    "hyper_df = pd.DataFrame(hyper_json)\n",
    "agents_df = pd.DataFrame(agents_json)\n",
    "bg_df = pd.DataFrame(bg_json)\n",
    "actions_df = pd.DataFrame(actions_json)\n",
    "hyper_df.rename({0:'node', 1:'hyperparameter'}, axis = 'columns', inplace = True)\n",
    "agents_df.rename({0:'node', 1:'corr'}, axis = 'columns', inplace = True)\n",
    "bg_df.rename({0:'node', 1:'corr'}, axis = 'columns', inplace = True)\n",
    "actions_df.rename({0:'node', 1:'corr'}, axis = 'columns', inplace = True)"
   ]
  },
  {
   "cell_type": "code",
   "execution_count": 27,
   "metadata": {},
   "outputs": [],
   "source": [
    "agents_merged = agents_df.merge(hyper_df, on=[\"node\"])\n",
    "bg_merged = bg_df.merge(hyper_df, on=[\"node\"])\n",
    "actions_merged = actions_df.merge(hyper_df, on=[\"node\"])\n",
    "\n"
   ]
  },
  {
   "cell_type": "code",
   "execution_count": 28,
   "metadata": {},
   "outputs": [],
   "source": [
    "# select ONLY non-medial nodes\n",
    "agents_nonmedial = agents_merged.merge(non_medial, how='inner', on='node')\n",
    "bg_nonmedial = bg_merged.merge(non_medial, how='inner', on='node')\n",
    "actions_nonmedial = actions_merged.merge(non_medial, how='inner', on='node')\n"
   ]
  },
  {
   "cell_type": "code",
   "execution_count": 46,
   "metadata": {},
   "outputs": [
    {
     "data": {
      "text/html": [
       "<div>\n",
       "<style scoped>\n",
       "    .dataframe tbody tr th:only-of-type {\n",
       "        vertical-align: middle;\n",
       "    }\n",
       "\n",
       "    .dataframe tbody tr th {\n",
       "        vertical-align: top;\n",
       "    }\n",
       "\n",
       "    .dataframe thead th {\n",
       "        text-align: right;\n",
       "    }\n",
       "</style>\n",
       "<table border=\"1\" class=\"dataframe\">\n",
       "  <thead>\n",
       "    <tr style=\"text-align: right;\">\n",
       "      <th></th>\n",
       "      <th>node</th>\n",
       "      <th>corr</th>\n",
       "      <th>hyperparameter</th>\n",
       "      <th>feature</th>\n",
       "    </tr>\n",
       "  </thead>\n",
       "  <tbody>\n",
       "    <tr>\n",
       "      <th>0</th>\n",
       "      <td>21600.0</td>\n",
       "      <td>0.074512</td>\n",
       "      <td>1.000000</td>\n",
       "      <td>action</td>\n",
       "    </tr>\n",
       "    <tr>\n",
       "      <th>1</th>\n",
       "      <td>21601.0</td>\n",
       "      <td>0.119475</td>\n",
       "      <td>1.000000</td>\n",
       "      <td>action</td>\n",
       "    </tr>\n",
       "    <tr>\n",
       "      <th>2</th>\n",
       "      <td>21602.0</td>\n",
       "      <td>-0.109195</td>\n",
       "      <td>1.000000</td>\n",
       "      <td>action</td>\n",
       "    </tr>\n",
       "    <tr>\n",
       "      <th>3</th>\n",
       "      <td>21603.0</td>\n",
       "      <td>-0.047017</td>\n",
       "      <td>1.000000</td>\n",
       "      <td>action</td>\n",
       "    </tr>\n",
       "    <tr>\n",
       "      <th>4</th>\n",
       "      <td>21604.0</td>\n",
       "      <td>-0.091397</td>\n",
       "      <td>1.832981</td>\n",
       "      <td>action</td>\n",
       "    </tr>\n",
       "    <tr>\n",
       "      <th>5</th>\n",
       "      <td>21605.0</td>\n",
       "      <td>-0.063177</td>\n",
       "      <td>1.000000</td>\n",
       "      <td>action</td>\n",
       "    </tr>\n",
       "    <tr>\n",
       "      <th>6</th>\n",
       "      <td>21606.0</td>\n",
       "      <td>-0.102428</td>\n",
       "      <td>1.000000</td>\n",
       "      <td>action</td>\n",
       "    </tr>\n",
       "    <tr>\n",
       "      <th>7</th>\n",
       "      <td>21607.0</td>\n",
       "      <td>-0.092937</td>\n",
       "      <td>1.000000</td>\n",
       "      <td>action</td>\n",
       "    </tr>\n",
       "    <tr>\n",
       "      <th>8</th>\n",
       "      <td>21608.0</td>\n",
       "      <td>-0.071022</td>\n",
       "      <td>1.000000</td>\n",
       "      <td>action</td>\n",
       "    </tr>\n",
       "    <tr>\n",
       "      <th>9</th>\n",
       "      <td>21609.0</td>\n",
       "      <td>-0.081103</td>\n",
       "      <td>1.000000</td>\n",
       "      <td>action</td>\n",
       "    </tr>\n",
       "    <tr>\n",
       "      <th>10</th>\n",
       "      <td>21610.0</td>\n",
       "      <td>0.056957</td>\n",
       "      <td>127.427499</td>\n",
       "      <td>action</td>\n",
       "    </tr>\n",
       "    <tr>\n",
       "      <th>11</th>\n",
       "      <td>21611.0</td>\n",
       "      <td>0.037379</td>\n",
       "      <td>233.572147</td>\n",
       "      <td>action</td>\n",
       "    </tr>\n",
       "    <tr>\n",
       "      <th>12</th>\n",
       "      <td>21612.0</td>\n",
       "      <td>0.021717</td>\n",
       "      <td>37.926902</td>\n",
       "      <td>action</td>\n",
       "    </tr>\n",
       "    <tr>\n",
       "      <th>13</th>\n",
       "      <td>21613.0</td>\n",
       "      <td>-0.001356</td>\n",
       "      <td>1.000000</td>\n",
       "      <td>action</td>\n",
       "    </tr>\n",
       "    <tr>\n",
       "      <th>14</th>\n",
       "      <td>21614.0</td>\n",
       "      <td>0.070777</td>\n",
       "      <td>1.000000</td>\n",
       "      <td>action</td>\n",
       "    </tr>\n",
       "    <tr>\n",
       "      <th>15</th>\n",
       "      <td>21615.0</td>\n",
       "      <td>-0.002763</td>\n",
       "      <td>1.000000</td>\n",
       "      <td>action</td>\n",
       "    </tr>\n",
       "    <tr>\n",
       "      <th>16</th>\n",
       "      <td>21616.0</td>\n",
       "      <td>0.037356</td>\n",
       "      <td>1.000000</td>\n",
       "      <td>action</td>\n",
       "    </tr>\n",
       "    <tr>\n",
       "      <th>17</th>\n",
       "      <td>21617.0</td>\n",
       "      <td>0.072444</td>\n",
       "      <td>784.759970</td>\n",
       "      <td>action</td>\n",
       "    </tr>\n",
       "    <tr>\n",
       "      <th>18</th>\n",
       "      <td>21618.0</td>\n",
       "      <td>0.092091</td>\n",
       "      <td>4832.930239</td>\n",
       "      <td>action</td>\n",
       "    </tr>\n",
       "    <tr>\n",
       "      <th>19</th>\n",
       "      <td>21619.0</td>\n",
       "      <td>0.093068</td>\n",
       "      <td>4832.930239</td>\n",
       "      <td>action</td>\n",
       "    </tr>\n",
       "  </tbody>\n",
       "</table>\n",
       "</div>"
      ],
      "text/plain": [
       "       node      corr  hyperparameter feature\n",
       "0   21600.0  0.074512        1.000000  action\n",
       "1   21601.0  0.119475        1.000000  action\n",
       "2   21602.0 -0.109195        1.000000  action\n",
       "3   21603.0 -0.047017        1.000000  action\n",
       "4   21604.0 -0.091397        1.832981  action\n",
       "5   21605.0 -0.063177        1.000000  action\n",
       "6   21606.0 -0.102428        1.000000  action\n",
       "7   21607.0 -0.092937        1.000000  action\n",
       "8   21608.0 -0.071022        1.000000  action\n",
       "9   21609.0 -0.081103        1.000000  action\n",
       "10  21610.0  0.056957      127.427499  action\n",
       "11  21611.0  0.037379      233.572147  action\n",
       "12  21612.0  0.021717       37.926902  action\n",
       "13  21613.0 -0.001356        1.000000  action\n",
       "14  21614.0  0.070777        1.000000  action\n",
       "15  21615.0 -0.002763        1.000000  action\n",
       "16  21616.0  0.037356        1.000000  action\n",
       "17  21617.0  0.072444      784.759970  action\n",
       "18  21618.0  0.092091     4832.930239  action\n",
       "19  21619.0  0.093068     4832.930239  action"
      ]
     },
     "execution_count": 46,
     "metadata": {},
     "output_type": "execute_result"
    }
   ],
   "source": [
    "actions_nonmedial"
   ]
  },
  {
   "cell_type": "code",
   "execution_count": 45,
   "metadata": {},
   "outputs": [
    {
     "data": {
      "text/html": [
       "<div>\n",
       "<style scoped>\n",
       "    .dataframe tbody tr th:only-of-type {\n",
       "        vertical-align: middle;\n",
       "    }\n",
       "\n",
       "    .dataframe tbody tr th {\n",
       "        vertical-align: top;\n",
       "    }\n",
       "\n",
       "    .dataframe thead th {\n",
       "        text-align: right;\n",
       "    }\n",
       "</style>\n",
       "<table border=\"1\" class=\"dataframe\">\n",
       "  <thead>\n",
       "    <tr style=\"text-align: right;\">\n",
       "      <th></th>\n",
       "      <th>node</th>\n",
       "      <th>corr</th>\n",
       "      <th>hyperparameter</th>\n",
       "      <th>feature</th>\n",
       "    </tr>\n",
       "  </thead>\n",
       "  <tbody>\n",
       "    <tr>\n",
       "      <th>0</th>\n",
       "      <td>21600.0</td>\n",
       "      <td>0.002065</td>\n",
       "      <td>1.000000</td>\n",
       "      <td>agent</td>\n",
       "    </tr>\n",
       "    <tr>\n",
       "      <th>1</th>\n",
       "      <td>21601.0</td>\n",
       "      <td>0.035247</td>\n",
       "      <td>1.000000</td>\n",
       "      <td>agent</td>\n",
       "    </tr>\n",
       "    <tr>\n",
       "      <th>2</th>\n",
       "      <td>21602.0</td>\n",
       "      <td>-0.024752</td>\n",
       "      <td>1.000000</td>\n",
       "      <td>agent</td>\n",
       "    </tr>\n",
       "    <tr>\n",
       "      <th>3</th>\n",
       "      <td>21603.0</td>\n",
       "      <td>-0.011751</td>\n",
       "      <td>1.000000</td>\n",
       "      <td>agent</td>\n",
       "    </tr>\n",
       "    <tr>\n",
       "      <th>4</th>\n",
       "      <td>21604.0</td>\n",
       "      <td>-0.018225</td>\n",
       "      <td>1.832981</td>\n",
       "      <td>agent</td>\n",
       "    </tr>\n",
       "    <tr>\n",
       "      <th>5</th>\n",
       "      <td>21605.0</td>\n",
       "      <td>-0.052577</td>\n",
       "      <td>1.000000</td>\n",
       "      <td>agent</td>\n",
       "    </tr>\n",
       "    <tr>\n",
       "      <th>6</th>\n",
       "      <td>21606.0</td>\n",
       "      <td>-0.033150</td>\n",
       "      <td>1.000000</td>\n",
       "      <td>agent</td>\n",
       "    </tr>\n",
       "    <tr>\n",
       "      <th>7</th>\n",
       "      <td>21607.0</td>\n",
       "      <td>0.034750</td>\n",
       "      <td>1.000000</td>\n",
       "      <td>agent</td>\n",
       "    </tr>\n",
       "    <tr>\n",
       "      <th>8</th>\n",
       "      <td>21608.0</td>\n",
       "      <td>0.042701</td>\n",
       "      <td>1.000000</td>\n",
       "      <td>agent</td>\n",
       "    </tr>\n",
       "    <tr>\n",
       "      <th>9</th>\n",
       "      <td>21609.0</td>\n",
       "      <td>0.052710</td>\n",
       "      <td>1.000000</td>\n",
       "      <td>agent</td>\n",
       "    </tr>\n",
       "    <tr>\n",
       "      <th>10</th>\n",
       "      <td>21610.0</td>\n",
       "      <td>0.040361</td>\n",
       "      <td>127.427499</td>\n",
       "      <td>agent</td>\n",
       "    </tr>\n",
       "    <tr>\n",
       "      <th>11</th>\n",
       "      <td>21611.0</td>\n",
       "      <td>-0.026060</td>\n",
       "      <td>233.572147</td>\n",
       "      <td>agent</td>\n",
       "    </tr>\n",
       "    <tr>\n",
       "      <th>12</th>\n",
       "      <td>21612.0</td>\n",
       "      <td>0.001073</td>\n",
       "      <td>37.926902</td>\n",
       "      <td>agent</td>\n",
       "    </tr>\n",
       "    <tr>\n",
       "      <th>13</th>\n",
       "      <td>21613.0</td>\n",
       "      <td>-0.035228</td>\n",
       "      <td>1.000000</td>\n",
       "      <td>agent</td>\n",
       "    </tr>\n",
       "    <tr>\n",
       "      <th>14</th>\n",
       "      <td>21614.0</td>\n",
       "      <td>0.027061</td>\n",
       "      <td>1.000000</td>\n",
       "      <td>agent</td>\n",
       "    </tr>\n",
       "    <tr>\n",
       "      <th>15</th>\n",
       "      <td>21615.0</td>\n",
       "      <td>0.062779</td>\n",
       "      <td>1.000000</td>\n",
       "      <td>agent</td>\n",
       "    </tr>\n",
       "    <tr>\n",
       "      <th>16</th>\n",
       "      <td>21616.0</td>\n",
       "      <td>-0.009910</td>\n",
       "      <td>1.000000</td>\n",
       "      <td>agent</td>\n",
       "    </tr>\n",
       "    <tr>\n",
       "      <th>17</th>\n",
       "      <td>21617.0</td>\n",
       "      <td>0.162181</td>\n",
       "      <td>784.759970</td>\n",
       "      <td>agent</td>\n",
       "    </tr>\n",
       "    <tr>\n",
       "      <th>18</th>\n",
       "      <td>21618.0</td>\n",
       "      <td>0.179887</td>\n",
       "      <td>4832.930239</td>\n",
       "      <td>agent</td>\n",
       "    </tr>\n",
       "    <tr>\n",
       "      <th>19</th>\n",
       "      <td>21619.0</td>\n",
       "      <td>0.178055</td>\n",
       "      <td>4832.930239</td>\n",
       "      <td>agent</td>\n",
       "    </tr>\n",
       "  </tbody>\n",
       "</table>\n",
       "</div>"
      ],
      "text/plain": [
       "       node      corr  hyperparameter feature\n",
       "0   21600.0  0.002065        1.000000   agent\n",
       "1   21601.0  0.035247        1.000000   agent\n",
       "2   21602.0 -0.024752        1.000000   agent\n",
       "3   21603.0 -0.011751        1.000000   agent\n",
       "4   21604.0 -0.018225        1.832981   agent\n",
       "5   21605.0 -0.052577        1.000000   agent\n",
       "6   21606.0 -0.033150        1.000000   agent\n",
       "7   21607.0  0.034750        1.000000   agent\n",
       "8   21608.0  0.042701        1.000000   agent\n",
       "9   21609.0  0.052710        1.000000   agent\n",
       "10  21610.0  0.040361      127.427499   agent\n",
       "11  21611.0 -0.026060      233.572147   agent\n",
       "12  21612.0  0.001073       37.926902   agent\n",
       "13  21613.0 -0.035228        1.000000   agent\n",
       "14  21614.0  0.027061        1.000000   agent\n",
       "15  21615.0  0.062779        1.000000   agent\n",
       "16  21616.0 -0.009910        1.000000   agent\n",
       "17  21617.0  0.162181      784.759970   agent\n",
       "18  21618.0  0.179887     4832.930239   agent\n",
       "19  21619.0  0.178055     4832.930239   agent"
      ]
     },
     "execution_count": 45,
     "metadata": {},
     "output_type": "execute_result"
    }
   ],
   "source": [
    "agents_nonmedial"
   ]
  },
  {
   "cell_type": "code",
   "execution_count": 47,
   "metadata": {},
   "outputs": [
    {
     "data": {
      "text/html": [
       "<div>\n",
       "<style scoped>\n",
       "    .dataframe tbody tr th:only-of-type {\n",
       "        vertical-align: middle;\n",
       "    }\n",
       "\n",
       "    .dataframe tbody tr th {\n",
       "        vertical-align: top;\n",
       "    }\n",
       "\n",
       "    .dataframe thead th {\n",
       "        text-align: right;\n",
       "    }\n",
       "</style>\n",
       "<table border=\"1\" class=\"dataframe\">\n",
       "  <thead>\n",
       "    <tr style=\"text-align: right;\">\n",
       "      <th></th>\n",
       "      <th>node</th>\n",
       "      <th>corr</th>\n",
       "      <th>hyperparameter</th>\n",
       "      <th>feature</th>\n",
       "    </tr>\n",
       "  </thead>\n",
       "  <tbody>\n",
       "    <tr>\n",
       "      <th>0</th>\n",
       "      <td>21600.0</td>\n",
       "      <td>0.038390</td>\n",
       "      <td>1.000000</td>\n",
       "      <td>background</td>\n",
       "    </tr>\n",
       "    <tr>\n",
       "      <th>1</th>\n",
       "      <td>21601.0</td>\n",
       "      <td>-0.027635</td>\n",
       "      <td>1.000000</td>\n",
       "      <td>background</td>\n",
       "    </tr>\n",
       "    <tr>\n",
       "      <th>2</th>\n",
       "      <td>21602.0</td>\n",
       "      <td>0.053854</td>\n",
       "      <td>1.000000</td>\n",
       "      <td>background</td>\n",
       "    </tr>\n",
       "    <tr>\n",
       "      <th>3</th>\n",
       "      <td>21603.0</td>\n",
       "      <td>0.069285</td>\n",
       "      <td>1.000000</td>\n",
       "      <td>background</td>\n",
       "    </tr>\n",
       "    <tr>\n",
       "      <th>4</th>\n",
       "      <td>21604.0</td>\n",
       "      <td>0.075246</td>\n",
       "      <td>1.832981</td>\n",
       "      <td>background</td>\n",
       "    </tr>\n",
       "    <tr>\n",
       "      <th>5</th>\n",
       "      <td>21605.0</td>\n",
       "      <td>0.065574</td>\n",
       "      <td>1.000000</td>\n",
       "      <td>background</td>\n",
       "    </tr>\n",
       "    <tr>\n",
       "      <th>6</th>\n",
       "      <td>21606.0</td>\n",
       "      <td>0.099147</td>\n",
       "      <td>1.000000</td>\n",
       "      <td>background</td>\n",
       "    </tr>\n",
       "    <tr>\n",
       "      <th>7</th>\n",
       "      <td>21607.0</td>\n",
       "      <td>0.014854</td>\n",
       "      <td>1.000000</td>\n",
       "      <td>background</td>\n",
       "    </tr>\n",
       "    <tr>\n",
       "      <th>8</th>\n",
       "      <td>21608.0</td>\n",
       "      <td>0.077624</td>\n",
       "      <td>1.000000</td>\n",
       "      <td>background</td>\n",
       "    </tr>\n",
       "    <tr>\n",
       "      <th>9</th>\n",
       "      <td>21609.0</td>\n",
       "      <td>0.078004</td>\n",
       "      <td>1.000000</td>\n",
       "      <td>background</td>\n",
       "    </tr>\n",
       "    <tr>\n",
       "      <th>10</th>\n",
       "      <td>21610.0</td>\n",
       "      <td>0.061734</td>\n",
       "      <td>127.427499</td>\n",
       "      <td>background</td>\n",
       "    </tr>\n",
       "    <tr>\n",
       "      <th>11</th>\n",
       "      <td>21611.0</td>\n",
       "      <td>0.075250</td>\n",
       "      <td>233.572147</td>\n",
       "      <td>background</td>\n",
       "    </tr>\n",
       "    <tr>\n",
       "      <th>12</th>\n",
       "      <td>21612.0</td>\n",
       "      <td>0.069080</td>\n",
       "      <td>37.926902</td>\n",
       "      <td>background</td>\n",
       "    </tr>\n",
       "    <tr>\n",
       "      <th>13</th>\n",
       "      <td>21613.0</td>\n",
       "      <td>0.018608</td>\n",
       "      <td>1.000000</td>\n",
       "      <td>background</td>\n",
       "    </tr>\n",
       "    <tr>\n",
       "      <th>14</th>\n",
       "      <td>21614.0</td>\n",
       "      <td>-0.003550</td>\n",
       "      <td>1.000000</td>\n",
       "      <td>background</td>\n",
       "    </tr>\n",
       "    <tr>\n",
       "      <th>15</th>\n",
       "      <td>21615.0</td>\n",
       "      <td>-0.025355</td>\n",
       "      <td>1.000000</td>\n",
       "      <td>background</td>\n",
       "    </tr>\n",
       "    <tr>\n",
       "      <th>16</th>\n",
       "      <td>21616.0</td>\n",
       "      <td>0.065999</td>\n",
       "      <td>1.000000</td>\n",
       "      <td>background</td>\n",
       "    </tr>\n",
       "    <tr>\n",
       "      <th>17</th>\n",
       "      <td>21617.0</td>\n",
       "      <td>0.072143</td>\n",
       "      <td>784.759970</td>\n",
       "      <td>background</td>\n",
       "    </tr>\n",
       "    <tr>\n",
       "      <th>18</th>\n",
       "      <td>21618.0</td>\n",
       "      <td>0.078787</td>\n",
       "      <td>4832.930239</td>\n",
       "      <td>background</td>\n",
       "    </tr>\n",
       "    <tr>\n",
       "      <th>19</th>\n",
       "      <td>21619.0</td>\n",
       "      <td>0.061867</td>\n",
       "      <td>4832.930239</td>\n",
       "      <td>background</td>\n",
       "    </tr>\n",
       "  </tbody>\n",
       "</table>\n",
       "</div>"
      ],
      "text/plain": [
       "       node      corr  hyperparameter     feature\n",
       "0   21600.0  0.038390        1.000000  background\n",
       "1   21601.0 -0.027635        1.000000  background\n",
       "2   21602.0  0.053854        1.000000  background\n",
       "3   21603.0  0.069285        1.000000  background\n",
       "4   21604.0  0.075246        1.832981  background\n",
       "5   21605.0  0.065574        1.000000  background\n",
       "6   21606.0  0.099147        1.000000  background\n",
       "7   21607.0  0.014854        1.000000  background\n",
       "8   21608.0  0.077624        1.000000  background\n",
       "9   21609.0  0.078004        1.000000  background\n",
       "10  21610.0  0.061734      127.427499  background\n",
       "11  21611.0  0.075250      233.572147  background\n",
       "12  21612.0  0.069080       37.926902  background\n",
       "13  21613.0  0.018608        1.000000  background\n",
       "14  21614.0 -0.003550        1.000000  background\n",
       "15  21615.0 -0.025355        1.000000  background\n",
       "16  21616.0  0.065999        1.000000  background\n",
       "17  21617.0  0.072143      784.759970  background\n",
       "18  21618.0  0.078787     4832.930239  background\n",
       "19  21619.0  0.061867     4832.930239  background"
      ]
     },
     "execution_count": 47,
     "metadata": {},
     "output_type": "execute_result"
    }
   ],
   "source": [
    "bg_nonmedial"
   ]
  },
  {
   "cell_type": "markdown",
   "metadata": {},
   "source": [
    "## plot 1) hyper parameter value per node"
   ]
  },
  {
   "cell_type": "code",
   "execution_count": 73,
   "metadata": {},
   "outputs": [
    {
     "ename": "AttributeError",
     "evalue": "'AxesSubplot' object has no attribute 'xlabel'",
     "output_type": "error",
     "traceback": [
      "\u001b[0;31m---------------------------------------------------------------------------\u001b[0m",
      "\u001b[0;31mAttributeError\u001b[0m                            Traceback (most recent call last)",
      "\u001b[0;32m<ipython-input-73-a4b96d5d5949>\u001b[0m in \u001b[0;36m<module>\u001b[0;34m\u001b[0m\n\u001b[1;32m      3\u001b[0m \u001b[0mb\u001b[0m \u001b[0;34m=\u001b[0m \u001b[0mactions_nonmedial\u001b[0m\u001b[0;34m.\u001b[0m\u001b[0mplot\u001b[0m\u001b[0;34m.\u001b[0m\u001b[0mbar\u001b[0m\u001b[0;34m(\u001b[0m\u001b[0mx\u001b[0m\u001b[0;34m=\u001b[0m\u001b[0;34m'node'\u001b[0m\u001b[0;34m,\u001b[0m \u001b[0my\u001b[0m\u001b[0;34m=\u001b[0m\u001b[0;34m'hyperparameter'\u001b[0m\u001b[0;34m,\u001b[0m \u001b[0mrot\u001b[0m\u001b[0;34m=\u001b[0m\u001b[0;36m45\u001b[0m\u001b[0;34m,\u001b[0m \u001b[0;34m)\u001b[0m\u001b[0;34m\u001b[0m\u001b[0;34m\u001b[0m\u001b[0m\n\u001b[1;32m      4\u001b[0m \u001b[0mb\u001b[0m\u001b[0;34m.\u001b[0m\u001b[0mset_yscale\u001b[0m\u001b[0;34m(\u001b[0m\u001b[0;34m'log'\u001b[0m\u001b[0;34m)\u001b[0m\u001b[0;34m\u001b[0m\u001b[0;34m\u001b[0m\u001b[0m\n\u001b[0;32m----> 5\u001b[0;31m \u001b[0mb\u001b[0m\u001b[0;34m.\u001b[0m\u001b[0mxlabel\u001b[0m\u001b[0;34m(\u001b[0m\u001b[0;34m'node number'\u001b[0m\u001b[0;34m)\u001b[0m\u001b[0;34m\u001b[0m\u001b[0;34m\u001b[0m\u001b[0m\n\u001b[0m\u001b[1;32m      6\u001b[0m \u001b[0;31m#c = actions_merged.plot.bar(x='node', y='hyperparameter', rot=45, )\u001b[0m\u001b[0;34m\u001b[0m\u001b[0;34m\u001b[0m\u001b[0;34m\u001b[0m\u001b[0m\n",
      "\u001b[0;31mAttributeError\u001b[0m: 'AxesSubplot' object has no attribute 'xlabel'"
     ]
    },
    {
     "data": {
      "image/png": "[encoded data removed]",
      "text/plain": [
       "<Figure size 432x288 with 1 Axes>"
      ]
     },
     "metadata": {
      "needs_background": "light"
     },
     "output_type": "display_data"
    }
   ],
   "source": [
    "# ax = hdf.hist( column =, bins=25, grid=False, figsize=(8,10), layout=(3,1), sharex=True, color='#86bf91', zorder=2, rwidth=0.9)\n",
    "#ax = agents_merged.plot.bar(x='node', y='hyperparameter', rot=45, )\n",
    "b = actions_nonmedial.plot.bar(x='node', y='hyperparameter', rot=45, )\n",
    "b.set_yscale('log')\n",
    "b.xlabel('node number')\n",
    "#c = actions_merged.plot.bar(x='node', y='hyperparameter', rot=45, )\n"
   ]
  },
  {
   "cell_type": "markdown",
   "metadata": {},
   "source": [
    "## plot 2) correlation coefficient per node"
   ]
  },
  {
   "cell_type": "code",
   "execution_count": 74,
   "metadata": {},
   "outputs": [
    {
     "data": {
      "image/png": "[encoded data removed]",
      "text/plain": [
       "<Figure size 432x288 with 1 Axes>"
      ]
     },
     "metadata": {
      "needs_background": "light"
     },
     "output_type": "display_data"
    },
    {
     "data": {
      "image/png": "[encoded data removed]",
      "text/plain": [
       "<Figure size 432x288 with 1 Axes>"
      ]
     },
     "metadata": {
      "needs_background": "light"
     },
     "output_type": "display_data"
    },
    {
     "data": {
      "image/png": "[encoded data removed]",
      "text/plain": [
       "<Figure size 432x288 with 1 Axes>"
      ]
     },
     "metadata": {
      "needs_background": "light"
     },
     "output_type": "display_data"
    }
   ],
   "source": [
    "ax = actions_nonmedial.plot.bar(x='node', y='corr', title = 'actions', rot=45, ylim = (-0.20,0.20))\n",
    "ax = bg_nonmedial.plot.bar(x='node', y='corr',title = 'background', rot=45, ylim = (-0.20,0.20))\n",
    "ax = agents_nonmedial.plot.bar(x='node', y='corr', title = 'agents',rot=45, ylim = (-0.20,0.20))\n"
   ]
  },
  {
   "cell_type": "markdown",
   "metadata": {},
   "source": [
    "## plot 3) stacked"
   ]
  },
  {
   "cell_type": "code",
   "execution_count": 35,
   "metadata": {},
   "outputs": [],
   "source": [
    "actions_nonmedial['feature'] = 'action'\n",
    "bg_nonmedial['feature'] = 'background'\n",
    "agents_nonmedial['feature'] = 'agent'\n",
    "stack_df = pd.concat([actions_nonmedial, bg_nonmedial, agents_nonmedial])\n",
    "#sdf =  stack_df.rename({0:'node', 1:'correlation'}, axis = 'columns')"
   ]
  },
  {
   "cell_type": "code",
   "execution_count": 36,
   "metadata": {},
   "outputs": [
    {
     "data": {
      "text/html": [
       "<div>\n",
       "<style scoped>\n",
       "    .dataframe tbody tr th:only-of-type {\n",
       "        vertical-align: middle;\n",
       "    }\n",
       "\n",
       "    .dataframe tbody tr th {\n",
       "        vertical-align: top;\n",
       "    }\n",
       "\n",
       "    .dataframe thead th {\n",
       "        text-align: right;\n",
       "    }\n",
       "</style>\n",
       "<table border=\"1\" class=\"dataframe\">\n",
       "  <thead>\n",
       "    <tr style=\"text-align: right;\">\n",
       "      <th></th>\n",
       "      <th>node</th>\n",
       "      <th>corr</th>\n",
       "      <th>hyperparameter</th>\n",
       "      <th>feature</th>\n",
       "    </tr>\n",
       "  </thead>\n",
       "  <tbody>\n",
       "    <tr>\n",
       "      <th>0</th>\n",
       "      <td>21600.0</td>\n",
       "      <td>0.074512</td>\n",
       "      <td>1.000000</td>\n",
       "      <td>action</td>\n",
       "    </tr>\n",
       "    <tr>\n",
       "      <th>1</th>\n",
       "      <td>21601.0</td>\n",
       "      <td>0.119475</td>\n",
       "      <td>1.000000</td>\n",
       "      <td>action</td>\n",
       "    </tr>\n",
       "    <tr>\n",
       "      <th>2</th>\n",
       "      <td>21602.0</td>\n",
       "      <td>-0.109195</td>\n",
       "      <td>1.000000</td>\n",
       "      <td>action</td>\n",
       "    </tr>\n",
       "    <tr>\n",
       "      <th>3</th>\n",
       "      <td>21603.0</td>\n",
       "      <td>-0.047017</td>\n",
       "      <td>1.000000</td>\n",
       "      <td>action</td>\n",
       "    </tr>\n",
       "    <tr>\n",
       "      <th>4</th>\n",
       "      <td>21604.0</td>\n",
       "      <td>-0.091397</td>\n",
       "      <td>1.832981</td>\n",
       "      <td>action</td>\n",
       "    </tr>\n",
       "  </tbody>\n",
       "</table>\n",
       "</div>"
      ],
      "text/plain": [
       "      node      corr  hyperparameter feature\n",
       "0  21600.0  0.074512        1.000000  action\n",
       "1  21601.0  0.119475        1.000000  action\n",
       "2  21602.0 -0.109195        1.000000  action\n",
       "3  21603.0 -0.047017        1.000000  action\n",
       "4  21604.0 -0.091397        1.832981  action"
      ]
     },
     "execution_count": 36,
     "metadata": {},
     "output_type": "execute_result"
    }
   ],
   "source": [
    "stack_df.head()"
   ]
  },
  {
   "cell_type": "code",
   "execution_count": 72,
   "metadata": {},
   "outputs": [
    {
     "data": {
      "text/plain": [
       "Text(0, 0.5, 'frequency')"
      ]
     },
     "execution_count": 72,
     "metadata": {},
     "output_type": "execute_result"
    },
    {
     "data": {
      "image/png": "[encoded data removed]",
      "text/plain": [
       "<Figure size 432x288 with 1 Axes>"
      ]
     },
     "metadata": {
      "needs_background": "light"
     },
     "output_type": "display_data"
    }
   ],
   "source": [
    "# https://stackoverflow.com/questions/48238305/bar-plot-with-groupby\n",
    "\n",
    "for g in pd.unique(stack_df['feature']):\n",
    "    stack_df.loc[stack_df['feature']==g,'corr'].hist(alpha=0.35,\n",
    "                                             label=g,density=True)\n",
    "plt.legend(loc='upper left')\n",
    "plt.xlabel('correlation coefficient')\n",
    "plt.ylabel('frequency')\n",
    "\n",
    "\n",
    "# sdf.groupby('feature')['correlation'].hist(bins=10, alpha=0.65, density=True, label=g)"
   ]
  },
  {
   "cell_type": "markdown",
   "metadata": {},
   "source": [
    "## relationship between hyperparameter and correlation coefficient"
   ]
  },
  {
   "cell_type": "code",
   "execution_count": 70,
   "metadata": {},
   "outputs": [
    {
     "data": {
      "image/png": "[encoded data removed]",
      "text/plain": [
       "<Figure size 432x288 with 1 Axes>"
      ]
     },
     "metadata": {
      "needs_background": "light"
     },
     "output_type": "display_data"
    }
   ],
   "source": [
    "# ax2 = stack_df.plot.scatter(x='hyperparameter',\n",
    "#                       y='corr',\n",
    "#                       c='feature',\n",
    "#                       colormap='viridis')\n",
    "\n",
    "# g =sns.scatterplot(x=\"hyperparameter\", y=\"corr\",\n",
    "#               hue=\"feature\",\n",
    "#               data=stack_df);\n",
    "# g.set_xscale('log')\n",
    "# # g.set(xscale=\"log\");\n",
    "\n",
    "\n",
    "y =sns.scatterplot(x=\"corr\", y=\"hyperparameter\",\n",
    "              hue=\"feature\",\n",
    "              data=stack_df);\n",
    "y.set_yscale('log')"
   ]
  }
 ],
 "metadata": {
  "kernelspec": {
   "display_name": "Python 3",
   "language": "python",
   "name": "python3"
  },
  "language_info": {
   "codemirror_mode": {
    "name": "ipython",
    "version": 3
   },
   "file_extension": ".py",
   "mimetype": "text/x-python",
   "name": "python",
   "nbconvert_exporter": "python",
   "pygments_lexer": "ipython3",
   "version": "3.7.3"
  },
  "latex_envs": {
   "LaTeX_envs_menu_present": true,
   "autoclose": false,
   "autocomplete": true,
   "bibliofile": "biblio.bib",
   "cite_by": "apalike",
   "current_citInitial": 1,
   "eqLabelWithNumbers": true,
   "eqNumInitial": 1,
   "hotkeys": {
    "equation": "Ctrl-E",
    "itemize": "Ctrl-I"
   },
   "labels_anchors": false,
   "latex_user_defs": false,
   "report_style_numbering": false,
   "user_envs_cfg": false
  },
  "toc": {
   "base_numbering": 1,
   "nav_menu": {},
   "number_sections": true,
   "sideBar": true,
   "skip_h1_title": false,
   "title_cell": "Table of Contents",
   "title_sidebar": "Contents",
   "toc_cell": false,
   "toc_position": {},
   "toc_section_display": true,
   "toc_window_display": true
  }
 },
 "nbformat": 4,
 "nbformat_minor": 2
}
